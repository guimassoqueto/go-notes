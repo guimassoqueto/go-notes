{
 "cells": [
  {
   "cell_type": "markdown",
   "id": "48c406ce-fdca-4cba-adf2-664286591f72",
   "metadata": {},
   "source": [
    "Init your project using:  \n",
    "```shell\n",
    "go mod init <project-name>\n",
    "```\n",
    "Where <project-name> is usually an github repo"
   ]
  },
  {
   "cell_type": "markdown",
   "id": "88f110c5-7ed2-4bbc-b600-a2626f3a549c",
   "metadata": {},
   "source": [
    "For example:\n",
    "1. I use this command when startng go project: \n",
    "```\n",
    "go mod init github.com/guimassoqueto/go-repo@latest\n",
    "```\n",
    "**@latest** is the latest version of go-repo  \n",
    "**@vN.N.N** is the commit tag, also works  \n",
    "**@commit-hash** is any commit hash from the repo, works fine too  \n",
    "\n",
    "  \n",
    "2. I create the packages with algorithms, for example create a folder named mypackage with a file named somepackage.go. Inside the somepackage.go I declare at the top of the file that the package is mypackage:\n",
    "\n",
    "```go\n",
    "package mypackage;\n",
    "import \"fmt\"\n",
    "\n",
    "func MyFunc() {\n",
    "    fmt.Println(\"Hello!\");\n",
    "}\n",
    "```\n",
    "4. I push the code to the repository located in `github.com/guimassoqueto/go-repo`"
   ]
  },
  {
   "cell_type": "markdown",
   "id": "10f1e981-b4f8-4e81-b06b-632aedcdc10d",
   "metadata": {},
   "source": [
    "When i write another go project and i need to use the function MyFunc located at go-repo, i just run:\n",
    "```\n",
    "go get github.com/guimassoqueto/go-repo\n",
    "```"
   ]
  },
  {
   "cell_type": "markdown",
   "id": "cb545945-3fd9-4624-890c-3ea10ed07bd3",
   "metadata": {},
   "source": [
    "To use the func MyFunc, while inside the code just write at the file:\n",
    "```go\n",
    "package main\n",
    "import \"github.com/guimassoqueto/go-repo\"\n",
    "\n",
    "func main() {\n",
    "    mypackage.MyFunc()\n",
    "}\n",
    "```\n",
    "where mypackage is the package named in go-repo"
   ]
  },
  {
   "cell_type": "code",
   "execution_count": null,
   "id": "7d5bf2e6-1c89-4a4d-a044-065c24e450dc",
   "metadata": {},
   "outputs": [],
   "source": []
  }
 ],
 "metadata": {
  "kernelspec": {
   "display_name": "Go",
   "language": "go",
   "name": "gophernotes"
  },
  "language_info": {
   "codemirror_mode": "",
   "file_extension": ".go",
   "mimetype": "",
   "name": "go",
   "nbconvert_exporter": "",
   "pygments_lexer": "",
   "version": "go1.21.0"
  }
 },
 "nbformat": 4,
 "nbformat_minor": 5
}
