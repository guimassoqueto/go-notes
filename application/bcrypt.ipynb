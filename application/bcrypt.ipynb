{
 "cells": [
  {
   "cell_type": "code",
   "execution_count": 6,
   "id": "9a4713c4-2661-46e9-99f2-162c22bdd7de",
   "metadata": {},
   "outputs": [],
   "source": [
    "import (\n",
    "    \"bcrypt\"\n",
    "    \"golang.org/x/crypto/bcrypt\"\n",
    ")"
   ]
  },
  {
   "cell_type": "code",
   "execution_count": 8,
   "id": "485a2fcd-ad34-4ee7-bbe3-bea98cb4e2f8",
   "metadata": {},
   "outputs": [
    {
     "ename": "ERROR",
     "evalue": "repl.go:1:18: undefined identifier: bcrypt",
     "output_type": "error",
     "traceback": [
      "repl.go:1:18: undefined identifier: bcrypt"
     ]
    }
   ],
   "source": [
    "pw := []byte(\"guillian1990\")\n",
    "\n",
    "bs, err := bcrypt.GenerateFromPassword(pw, 3)\n",
    "\n",
    "if err != nil {\n",
    "    fmt.Println(err)\n",
    "}"
   ]
  },
  {
   "cell_type": "code",
   "execution_count": 9,
   "id": "4c989a69-e9c2-44c3-b4a1-85d9034c67a2",
   "metadata": {},
   "outputs": [
    {
     "ename": "ERROR",
     "evalue": "repl.go:1:1: undefined identifier: err",
     "output_type": "error",
     "traceback": [
      "repl.go:1:1: undefined identifier: err"
     ]
    }
   ],
   "source": [
    "err = bcrypt.CompareHashAndPassword(bs, []byte(\"guillian1990\"))\n",
    "if err != nil {\n",
    "    fmt.Println(err)\n",
    "}\telse {\n",
    "    fmt.Println(\"Correct password\")\n",
    "}"
   ]
  },
  {
   "cell_type": "code",
   "execution_count": null,
   "id": "0b054f93-7a9b-4516-b583-d843d9f6e44b",
   "metadata": {},
   "outputs": [],
   "source": []
  }
 ],
 "metadata": {
  "kernelspec": {
   "display_name": "Go",
   "language": "go",
   "name": "gophernotes"
  },
  "language_info": {
   "codemirror_mode": "",
   "file_extension": ".go",
   "mimetype": "",
   "name": "go",
   "nbconvert_exporter": "",
   "pygments_lexer": "",
   "version": "go1.21.0"
  }
 },
 "nbformat": 4,
 "nbformat_minor": 5
}
