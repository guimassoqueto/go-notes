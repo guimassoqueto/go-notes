{
 "cells": [
  {
   "cell_type": "markdown",
   "id": "3dd2662b-611f-46d9-9972-3065b50d481e",
   "metadata": {},
   "source": [
    "https://pkg.go.dev/encoding/json"
   ]
  },
  {
   "cell_type": "code",
   "execution_count": 33,
   "id": "a1f96834-da25-48cb-8fb9-a9b31d289f9f",
   "metadata": {},
   "outputs": [],
   "source": [
    "import (\n",
    "    \"encoding/json\"\n",
    "    \"fmt\"\n",
    ")"
   ]
  },
  {
   "cell_type": "code",
   "execution_count": 34,
   "id": "2f560071-1b34-43c1-bbf9-c5e04035a37b",
   "metadata": {},
   "outputs": [],
   "source": [
    "type Person struct {\n",
    "    Name string `json:\"name\"`\n",
    "    Age int `json:\"age\"`\n",
    "    ProgLangs []string `json:progLangs`\n",
    "}"
   ]
  },
  {
   "cell_type": "markdown",
   "id": "334973c0-c5a6-45f1-9177-62633243731c",
   "metadata": {},
   "source": [
    "### JSON Marshal"
   ]
  },
  {
   "cell_type": "markdown",
   "id": "ea134ab2-bedf-4fe7-bd13-be8e7bb2f147",
   "metadata": {},
   "source": [
    "JSON Marshal converte um tipo abstrato em um json."
   ]
  },
  {
   "cell_type": "code",
   "execution_count": 35,
   "id": "e828df59-5b82-483e-a9fe-82bff22ebe18",
   "metadata": {},
   "outputs": [],
   "source": [
    "p := Person{\n",
    "    Name: \"Guilherme\",\n",
    "    Age: 30,\n",
    "    ProgLangs: []string{\"Typescript\", \"Python\", \"Golang\"},\n",
    "}"
   ]
  },
  {
   "cell_type": "code",
   "execution_count": 36,
   "id": "7fc029c8-145e-42dd-8301-dd5bdce259c6",
   "metadata": {},
   "outputs": [
    {
     "name": "stdout",
     "output_type": "stream",
     "text": [
      "{\"name\":\"Guilherme\",\"age\":30,\"ProgLangs\":[\"Typescript\",\"Python\",\"Golang\"]}\n"
     ]
    }
   ],
   "source": [
    "pJson, err := json.Marshal(p)\n",
    "if err != nil {\n",
    "    fmt.Println(err)\n",
    "} else {\n",
    "    fmt.Println(string(pJson))\n",
    "}"
   ]
  },
  {
   "cell_type": "markdown",
   "id": "2b258d67-cb47-402b-bf14-9fe159c9b37a",
   "metadata": {},
   "source": [
    "### Json Unmarshal"
   ]
  },
  {
   "cell_type": "markdown",
   "id": "5db607ad-2dda-4b5a-8ec3-cf52bc736642",
   "metadata": {},
   "source": [
    "JSON unmarshal converte um json (bytes[]) em um tipo abstrato pré definido."
   ]
  },
  {
   "cell_type": "code",
   "execution_count": 69,
   "id": "d6a215c1-3a5e-4364-9aae-ea8943ec207f",
   "metadata": {},
   "outputs": [],
   "source": [
    "data := []byte(`{\"name\":\"Guillian\", \"age\": 30, \"progLangs\": [\"C++\"]}`)"
   ]
  },
  {
   "cell_type": "code",
   "execution_count": 70,
   "id": "f2581fec-90dc-497c-bfe7-600bb6da3735",
   "metadata": {},
   "outputs": [],
   "source": [
    "guillian := &Person{}"
   ]
  },
  {
   "cell_type": "code",
   "execution_count": 71,
   "id": "3d4a469c-e9e0-48bc-bf09-269b9e5a72a7",
   "metadata": {},
   "outputs": [
    {
     "name": "stdout",
     "output_type": "stream",
     "text": [
      "{Guillian 30 [C++]}\n"
     ]
    }
   ],
   "source": [
    "err := json.Unmarshal(data, guillian)\n",
    "if err != nil {\n",
    "    fmt.Println(err)\n",
    "} else {\n",
    "    fmt.Println(*guillian)\n",
    "}\n"
   ]
  },
  {
   "cell_type": "code",
   "execution_count": null,
   "id": "ba17c8ab-5771-4921-8808-4b8d0e6de623",
   "metadata": {},
   "outputs": [],
   "source": []
  }
 ],
 "metadata": {
  "kernelspec": {
   "display_name": "Go",
   "language": "go",
   "name": "gophernotes"
  },
  "language_info": {
   "codemirror_mode": "",
   "file_extension": ".go",
   "mimetype": "",
   "name": "go",
   "nbconvert_exporter": "",
   "pygments_lexer": "",
   "version": "go1.21.0"
  }
 },
 "nbformat": 4,
 "nbformat_minor": 5
}
