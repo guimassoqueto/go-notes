{
 "cells": [
  {
   "cell_type": "code",
   "execution_count": 11,
   "id": "6521123f-b349-4191-b893-6c481ee409fa",
   "metadata": {},
   "outputs": [],
   "source": [
    "import \"sort\""
   ]
  },
  {
   "cell_type": "code",
   "execution_count": 12,
   "id": "a06560a1-1520-4720-998e-a667532fd0c7",
   "metadata": {},
   "outputs": [],
   "source": [
    "intArr := []int{5,9,18,65,1,26}"
   ]
  },
  {
   "cell_type": "code",
   "execution_count": 13,
   "id": "a4aef9c4-97ea-45b6-bfa6-f0dad52da9a6",
   "metadata": {},
   "outputs": [],
   "source": [
    "sort.Ints(intArr)"
   ]
  },
  {
   "cell_type": "code",
   "execution_count": 14,
   "id": "28f44fb5-894f-4150-86c3-719282d0e05e",
   "metadata": {},
   "outputs": [
    {
     "data": {
      "text/plain": [
       "[1 5 9 18 26 65]"
      ]
     },
     "execution_count": 14,
     "metadata": {},
     "output_type": "execute_result"
    }
   ],
   "source": [
    "intArr"
   ]
  },
  {
   "cell_type": "code",
   "execution_count": 15,
   "id": "974fe209-3ec5-4784-a974-b4340e047caa",
   "metadata": {},
   "outputs": [],
   "source": [
    "stringArr := []string{\"Guillian\", \"Guilherme\", \"Karina\", \"Dirce\"}"
   ]
  },
  {
   "cell_type": "code",
   "execution_count": 18,
   "id": "83bfd31d-f6fb-43d0-99d6-90458e06ed78",
   "metadata": {},
   "outputs": [],
   "source": [
    "sort.Strings(stringArr)"
   ]
  },
  {
   "cell_type": "code",
   "execution_count": 19,
   "id": "8f9baef2-91d6-41ef-9600-92090f8e31f2",
   "metadata": {},
   "outputs": [
    {
     "data": {
      "text/plain": [
       "[Dirce Guilherme Guillian Karina]"
      ]
     },
     "execution_count": 19,
     "metadata": {},
     "output_type": "execute_result"
    }
   ],
   "source": [
    "stringArr"
   ]
  },
  {
   "cell_type": "markdown",
   "id": "3ff3befc-a920-43dd-957d-c2d35903c61b",
   "metadata": {},
   "source": [
    "### Custom Sort"
   ]
  },
  {
   "cell_type": "code",
   "execution_count": null,
   "id": "898afb4f-9ca2-4564-9e36-fe4c5405e118",
   "metadata": {},
   "outputs": [],
   "source": []
  }
 ],
 "metadata": {
  "kernelspec": {
   "display_name": "Go",
   "language": "go",
   "name": "gophernotes"
  },
  "language_info": {
   "codemirror_mode": "",
   "file_extension": ".go",
   "mimetype": "",
   "name": "go",
   "nbconvert_exporter": "",
   "pygments_lexer": "",
   "version": "go1.21.0"
  }
 },
 "nbformat": 4,
 "nbformat_minor": 5
}
