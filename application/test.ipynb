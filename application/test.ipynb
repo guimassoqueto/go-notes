{
 "cells": [
  {
   "cell_type": "code",
   "execution_count": 65,
   "id": "fa5683a7-f753-4b5c-a58b-52792ebf1978",
   "metadata": {},
   "outputs": [],
   "source": [
    "import (\n",
    "    \"encoding/json\"\n",
    "    \"fmt\"\n",
    ")"
   ]
  },
  {
   "cell_type": "code",
   "execution_count": 66,
   "id": "744d908e-0bbf-4c6c-b2e3-e882c7cf1041",
   "metadata": {},
   "outputs": [],
   "source": [
    "type person struct{\n",
    "    Name string `json:\"name\"`\n",
    "    ProgLang []string `json:\"progLang, omitempty\"`\n",
    "}\n",
    "\n",
    "func (p person) Hello() {\n",
    "    fmt.Println(\"Hello I am \" + p.Name)\n",
    "}"
   ]
  },
  {
   "cell_type": "code",
   "execution_count": 68,
   "id": "239fe328-c9a0-48cd-b82b-d53ca81a8a8a",
   "metadata": {},
   "outputs": [],
   "source": [
    "var ps []person"
   ]
  },
  {
   "cell_type": "code",
   "execution_count": 69,
   "id": "a98b7106-1362-469c-88a7-efe2b825eb7f",
   "metadata": {},
   "outputs": [],
   "source": [
    "data := []byte(`[{\"name\": \"Guilherme\", \"progLang\": [\"C++\", \"Python\", \"Typescript\"]}, {\"name\": \"Guillian\", \"progLang\": [\"java\"]}, {\"name\": \"Jordi\"}]`)"
   ]
  },
  {
   "cell_type": "code",
   "execution_count": 70,
   "id": "5dd9927a-595f-4ed2-9708-fb050e758cb4",
   "metadata": {},
   "outputs": [
    {
     "name": "stdout",
     "output_type": "stream",
     "text": [
      "[{Guilherme [C++ Python Typescript]} {Guillian [java]} {Jordi []}]\n"
     ]
    }
   ],
   "source": [
    "err := json.Unmarshal(data, &ps)\n",
    "if err != nil {\n",
    "    fmt.Println(err)\n",
    "} else {\n",
    "    fmt.Println(ps)\n",
    "}"
   ]
  },
  {
   "cell_type": "code",
   "execution_count": 71,
   "id": "421abbcf-c7ec-459c-b357-a4a2febfad17",
   "metadata": {},
   "outputs": [
    {
     "name": "stdout",
     "output_type": "stream",
     "text": [
      "Hello I am Guillian\n"
     ]
    }
   ],
   "source": [
    "ps[1].Hello()"
   ]
  },
  {
   "cell_type": "code",
   "execution_count": null,
   "id": "ce25fb2f-163f-4e71-88d8-842e74a4d94c",
   "metadata": {},
   "outputs": [],
   "source": []
  }
 ],
 "metadata": {
  "kernelspec": {
   "display_name": "Go",
   "language": "go",
   "name": "gophernotes"
  },
  "language_info": {
   "codemirror_mode": "",
   "file_extension": ".go",
   "mimetype": "",
   "name": "go",
   "nbconvert_exporter": "",
   "pygments_lexer": "",
   "version": "go1.21.0"
  }
 },
 "nbformat": 4,
 "nbformat_minor": 5
}
