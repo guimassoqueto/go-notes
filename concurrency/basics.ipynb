{
 "cells": [
  {
   "cell_type": "markdown",
   "id": "f0fb57a3-9de5-44b4-861c-54c4db5e3ddc",
   "metadata": {},
   "source": [
    "https://pkg.go.dev/sync"
   ]
  },
  {
   "cell_type": "code",
   "execution_count": 2,
   "id": "a3234d04-326a-4100-b6a6-e473e5a5a155",
   "metadata": {},
   "outputs": [
    {
     "ename": "ERROR",
     "evalue": "repl.go:1:13: undefined identifier: runtime",
     "output_type": "error",
     "traceback": [
      "repl.go:1:13: undefined identifier: runtime"
     ]
    }
   ],
   "source": []
  }
 ],
 "metadata": {
  "kernelspec": {
   "display_name": "Go",
   "language": "go",
   "name": "gophernotes"
  },
  "language_info": {
   "codemirror_mode": "",
   "file_extension": ".go",
   "mimetype": "",
   "name": "go",
   "nbconvert_exporter": "",
   "pygments_lexer": "",
   "version": "go1.21.0"
  }
 },
 "nbformat": 4,
 "nbformat_minor": 5
}
