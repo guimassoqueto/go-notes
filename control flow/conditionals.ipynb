{
 "cells": [
  {
   "cell_type": "code",
   "execution_count": 12,
   "id": "137a90a8-1ee0-4993-9cd6-e1f9a9ebbb7d",
   "metadata": {},
   "outputs": [],
   "source": [
    "import (\n",
    "    \"fmt\"\n",
    "    \"math/rand\"\n",
    ")"
   ]
  },
  {
   "cell_type": "code",
   "execution_count": 13,
   "id": "9d752132-abc8-4c0b-88c9-1c7a7d35a062",
   "metadata": {},
   "outputs": [],
   "source": [
    "y := 55"
   ]
  },
  {
   "cell_type": "code",
   "execution_count": 14,
   "id": "6882a8aa-9aac-47e8-b6f6-be311fc5ec4f",
   "metadata": {},
   "outputs": [],
   "source": [
    "if (y == 42) {\n",
    "    fmt.Printf(\"Forty Two\")\n",
    "}"
   ]
  },
  {
   "cell_type": "markdown",
   "id": "21fcfb1c-50f5-45ac-8007-8c2fc7f98347",
   "metadata": {},
   "source": [
    "**also written without parenthesis:**"
   ]
  },
  {
   "cell_type": "code",
   "execution_count": 15,
   "id": "020d8571-dfa9-4220-be95-4808aa4c6285",
   "metadata": {},
   "outputs": [],
   "source": [
    "if y == 42 {\n",
    "    fmt.Println(\"Forty Two\")\n",
    "}"
   ]
  },
  {
   "cell_type": "code",
   "execution_count": 11,
   "id": "f2ad418e-729a-4fb2-8a32-35f018e21489",
   "metadata": {},
   "outputs": [
    {
     "name": "stdout",
     "output_type": "stream",
     "text": [
      "Greater than\n"
     ]
    }
   ],
   "source": [
    "if y < 42 {\n",
    "    fmt.Println(\"Less than\")\n",
    "} else if y == 42 {\n",
    "    fmt.Println(\"Forty Two\")\n",
    "} else {\n",
    "    fmt.Println(\"Greater than\")\n",
    "}"
   ]
  },
  {
   "cell_type": "markdown",
   "id": "b28edfe8-b07c-48c8-8634-ccdb2d66da07",
   "metadata": {},
   "source": [
    "**variable assignment inside the statement**"
   ]
  },
  {
   "cell_type": "code",
   "execution_count": 26,
   "id": "5497ab8a-fccf-4e0a-810c-c2e65036f858",
   "metadata": {},
   "outputs": [
    {
     "name": "stdout",
     "output_type": "stream",
     "text": [
      "71 is odd"
     ]
    }
   ],
   "source": [
    "if a := rand.Intn(100); a % 2 == 0 {\n",
    "    fmt.Printf(\"%d is even\", a)\n",
    "} else {\n",
    "    fmt.Printf(\"%d is odd\", a)\n",
    "}"
   ]
  },
  {
   "cell_type": "markdown",
   "id": "f6f1dc1c-8dd6-4af1-96d8-be9082f204ff",
   "metadata": {},
   "source": [
    "**Can use to check if a key exists in a map**"
   ]
  },
  {
   "cell_type": "code",
   "execution_count": 32,
   "id": "a098dbe9-768e-4e63-9b46-63453de940a0",
   "metadata": {},
   "outputs": [
    {
     "name": "stdout",
     "output_type": "stream",
     "text": [
      "Silva\n"
     ]
    }
   ],
   "source": [
    "m := map[string]string{\n",
    "    \"fname\": \"José\",\n",
    "    \"lname\": \"Silva\",\n",
    "}\n",
    "\n",
    "if fname, ok := m[\"lname\"]; ok {\n",
    "    fmt.Println(fname)\n",
    "}"
   ]
  },
  {
   "cell_type": "code",
   "execution_count": null,
   "id": "54365699-a866-4e8a-8428-b5bc4f13f2b0",
   "metadata": {},
   "outputs": [],
   "source": []
  }
 ],
 "metadata": {
  "kernelspec": {
   "display_name": "Go",
   "language": "go",
   "name": "gophernotes"
  },
  "language_info": {
   "codemirror_mode": "",
   "file_extension": ".go",
   "mimetype": "",
   "name": "go",
   "nbconvert_exporter": "",
   "pygments_lexer": "",
   "version": "go1.21.0"
  }
 },
 "nbformat": 4,
 "nbformat_minor": 5
}
