{
 "cells": [
  {
   "cell_type": "markdown",
   "id": "f6aaa439-2f17-4a75-8a06-07ef3c50fdaa",
   "metadata": {},
   "source": [
    "# For Loops"
   ]
  },
  {
   "cell_type": "code",
   "execution_count": 1,
   "id": "18bd6cd9-1fa4-462b-a9fd-f0e5f3d48fc1",
   "metadata": {},
   "outputs": [],
   "source": [
    "import \"fmt\""
   ]
  },
  {
   "cell_type": "markdown",
   "id": "03a523a0-612d-43ac-89ee-aebe3edb773d",
   "metadata": {},
   "source": [
    "### Basic Loop"
   ]
  },
  {
   "cell_type": "code",
   "execution_count": 25,
   "id": "eb2718fc-452d-4190-a300-4929e98bcfce",
   "metadata": {},
   "outputs": [
    {
     "name": "stdout",
     "output_type": "stream",
     "text": [
      "n: 0\tn: 1\tn: 2\tn: 3\tn: 4\t"
     ]
    }
   ],
   "source": [
    "for i := 0; i < 5; i++ {\n",
    "    fmt.Printf(\"n: %d\\t\", i)\n",
    "}"
   ]
  },
  {
   "cell_type": "markdown",
   "id": "5e2d08fb-3f5c-432f-8cf5-6314666e26c9",
   "metadata": {},
   "source": [
    "### Declaring variable first:"
   ]
  },
  {
   "cell_type": "code",
   "execution_count": 15,
   "id": "64c750a2-a348-4324-9a86-d20acb6b15ac",
   "metadata": {},
   "outputs": [
    {
     "name": "stdout",
     "output_type": "stream",
     "text": [
      "n: 0\tn: 1\tn: 2\tn: 3\tn: 4\t"
     ]
    }
   ],
   "source": [
    "y := 0\n",
    "for y < 5 {\n",
    "    fmt.Printf(\"n: %d\\t\", y)\n",
    "    y++\n",
    "}"
   ]
  },
  {
   "cell_type": "markdown",
   "id": "6dad6c2f-a41a-42bf-9772-dbc58008753e",
   "metadata": {},
   "source": [
    "### Range loop (slice):"
   ]
  },
  {
   "cell_type": "code",
   "execution_count": 21,
   "id": "5f2546f1-d5cf-4d62-b5b9-f0e0046e5dae",
   "metadata": {},
   "outputs": [
    {
     "name": "stdout",
     "output_type": "stream",
     "text": [
      "index: 0\tvalue: José\n",
      "index: 1\tvalue: Maria\n",
      "index: 2\tvalue: Sebastião\n",
      "index: 3\tvalue: Gertrudes\n",
      "index: 4\tvalue: Adamastor\n"
     ]
    }
   ],
   "source": [
    "r := []string{\"José\", \"Maria\", \"Sebastião\", \"Gertrudes\", \"Adamastor\"}\n",
    "for index, value := range r {\n",
    "    fmt.Printf(\"index: %d\\tvalue: %s\\n\", index, value)\n",
    "}"
   ]
  },
  {
   "cell_type": "markdown",
   "id": "7e4830ea-43b1-4070-958c-ea49e1280d6b",
   "metadata": {},
   "source": [
    "### Range loop (maps):  \n",
    "Ps: the elements are not retrieved in order"
   ]
  },
  {
   "cell_type": "code",
   "execution_count": 24,
   "id": "92300d70-b6e2-4ddd-aa80-83cf2813dd3e",
   "metadata": {},
   "outputs": [
    {
     "name": "stdout",
     "output_type": "stream",
     "text": [
      "index: fname\tvalue: José\n",
      "index: lname\tvalue: Silva\n"
     ]
    }
   ],
   "source": [
    "m := map[string]string{\n",
    "    \"fname\": \"José\",\n",
    "    \"lname\": \"Silva\",\n",
    "}\n",
    "\n",
    "for index, value := range m {\n",
    "    fmt.Printf(\"index: %s\\tvalue: %s\\n\", index, value)\n",
    "}"
   ]
  }
 ],
 "metadata": {
  "kernelspec": {
   "display_name": "Go",
   "language": "go",
   "name": "gophernotes"
  },
  "language_info": {
   "codemirror_mode": "",
   "file_extension": ".go",
   "mimetype": "",
   "name": "go",
   "nbconvert_exporter": "",
   "pygments_lexer": "",
   "version": "go1.21.0"
  }
 },
 "nbformat": 4,
 "nbformat_minor": 5
}
