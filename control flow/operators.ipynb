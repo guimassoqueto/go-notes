{
 "cells": [
  {
   "cell_type": "markdown",
   "id": "1c74cac3-eedc-4d10-ad21-60a46e4ffe6d",
   "metadata": {},
   "source": [
    "## Conditionals operators"
   ]
  },
  {
   "cell_type": "markdown",
   "id": "81bea1a3-0b56-4e5b-9c52-66dd435f3f29",
   "metadata": {},
   "source": [
    "== equal  \n",
    "!= not equal  \n",
    "< less than  \n",
    "<= less than or equal  \n",
    "\\> greater than  \n",
    "\\>= greater than or equal"
   ]
  },
  {
   "cell_type": "markdown",
   "id": "b376afc5-d61c-4c80-afdb-235de0bdb78e",
   "metadata": {},
   "source": [
    "## Logical operators"
   ]
  },
  {
   "cell_type": "markdown",
   "id": "8a3fed79-5547-4be0-b2d5-6681c2be4b82",
   "metadata": {},
   "source": [
    "&& Conditionals before AND after must be true"
   ]
  },
  {
   "cell_type": "markdown",
   "id": "3013f317-39e6-46a7-93ce-44b84d288eee",
   "metadata": {},
   "source": [
    "|| One OR another must be true"
   ]
  },
  {
   "cell_type": "code",
   "execution_count": null,
   "id": "3b8ea180-ecd7-4754-a245-ccd0844a55cf",
   "metadata": {},
   "outputs": [],
   "source": []
  }
 ],
 "metadata": {
  "kernelspec": {
   "display_name": "Go",
   "language": "go",
   "name": "gophernotes"
  },
  "language_info": {
   "codemirror_mode": "",
   "file_extension": ".go",
   "mimetype": "",
   "name": "go",
   "nbconvert_exporter": "",
   "pygments_lexer": "",
   "version": "go1.21.0"
  }
 },
 "nbformat": 4,
 "nbformat_minor": 5
}
