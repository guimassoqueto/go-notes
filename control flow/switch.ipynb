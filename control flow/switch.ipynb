{
 "cells": [
  {
   "cell_type": "code",
   "execution_count": 14,
   "id": "2171cbc1-5496-4d16-b47a-421595adcbc0",
   "metadata": {},
   "outputs": [],
   "source": [
    "import \"fmt\""
   ]
  },
  {
   "cell_type": "markdown",
   "id": "9b0e162b-aca0-4540-aadd-79ad629dbf6f",
   "metadata": {},
   "source": [
    "### Option 1"
   ]
  },
  {
   "cell_type": "code",
   "execution_count": 16,
   "id": "60c8a6b6-75e0-45b4-8ffe-380f0b9d22df",
   "metadata": {},
   "outputs": [
    {
     "name": "stdout",
     "output_type": "stream",
     "text": [
      "x is 42\n"
     ]
    }
   ],
   "source": [
    "x := 42\n",
    "switch {\n",
    "    case x < 42:\n",
    "        fmt.Println(\"x is less than 42\")\n",
    "    case x == 42:\n",
    "        fmt.Println(\"x is 42\")\n",
    "    case x > 42:\n",
    "        fmt.Println(\"x is greater than 42\")\n",
    "    default: \n",
    "        fmt.Println(\"ERROR\")\n",
    "\n",
    "}"
   ]
  },
  {
   "cell_type": "markdown",
   "id": "c8fac30a-72dd-451e-83cc-db699c6f3a77",
   "metadata": {},
   "source": [
    "### Option 2"
   ]
  },
  {
   "cell_type": "code",
   "execution_count": 21,
   "id": "a2593181-8b6a-4371-ad10-af397658f6ab",
   "metadata": {},
   "outputs": [
    {
     "name": "stdout",
     "output_type": "stream",
     "text": [
      "y is GUILHERME\n"
     ]
    }
   ],
   "source": [
    "y := \"Guilherme\"\n",
    "switch y {\n",
    "    case \"Guilherme\":\n",
    "        fmt.Println(\"y is GUILHERME\")\n",
    "    case \"Guillian\":\n",
    "        fmt.Println(\"y is GUILLIAN\")\n",
    "    default: \n",
    "        fmt.Println(\"ERROR\")\n",
    "}"
   ]
  },
  {
   "cell_type": "code",
   "execution_count": null,
   "id": "c9ef9355-3711-4d99-b9d2-1b73ee4abd65",
   "metadata": {},
   "outputs": [],
   "source": []
  }
 ],
 "metadata": {
  "kernelspec": {
   "display_name": "Go",
   "language": "go",
   "name": "gophernotes"
  },
  "language_info": {
   "codemirror_mode": "",
   "file_extension": ".go",
   "mimetype": "",
   "name": "go",
   "nbconvert_exporter": "",
   "pygments_lexer": "",
   "version": "go1.21.0"
  }
 },
 "nbformat": 4,
 "nbformat_minor": 5
}
