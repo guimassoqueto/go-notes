{
 "cells": [
  {
   "cell_type": "markdown",
   "id": "ca0a8909-76e9-4217-ab4c-62bd053d3d22",
   "metadata": {},
   "source": [
    "* Fixed size\n",
    "* Generally not used in source codes, used for Go internals"
   ]
  },
  {
   "cell_type": "code",
   "execution_count": 3,
   "id": "46b58b08-3991-40b6-879c-c231fa09c8cd",
   "metadata": {},
   "outputs": [],
   "source": [
    "import \"fmt\""
   ]
  },
  {
   "cell_type": "code",
   "execution_count": 6,
   "id": "3a534c9c-062c-4ee8-870f-fa7adb828813",
   "metadata": {},
   "outputs": [
    {
     "name": "stdout",
     "output_type": "stream",
     "text": [
      "[41 42 43 43 44]\n"
     ]
    },
    {
     "data": {
      "text/plain": [
       "17 <nil>"
      ]
     },
     "execution_count": 6,
     "metadata": {},
     "output_type": "execute_result"
    }
   ],
   "source": [
    "arr := [5]int{41, 42, 43, 43, 44}\n",
    "fmt.Println(arr)"
   ]
  },
  {
   "cell_type": "code",
   "execution_count": 9,
   "id": "035e8b8e-def9-4f61-8b7d-08408e05b859",
   "metadata": {},
   "outputs": [
    {
     "name": "stdout",
     "output_type": "stream",
     "text": [
      "[Guilherme João Toninho]\n"
     ]
    },
    {
     "data": {
      "text/plain": [
       "26 <nil>"
      ]
     },
     "execution_count": 9,
     "metadata": {},
     "output_type": "execute_result"
    }
   ],
   "source": [
    "arr2 := [...]string{\"Guilherme\", \"João\", \"Toninho\"}\n",
    "fmt.Println(arr2)"
   ]
  },
  {
   "cell_type": "code",
   "execution_count": 12,
   "id": "848658b8-c40e-4dfb-9117-d491ad6d36d7",
   "metadata": {},
   "outputs": [
    {
     "name": "stdout",
     "output_type": "stream",
     "text": [
      "[0 1]\n"
     ]
    },
    {
     "data": {
      "text/plain": [
       "6 <nil>"
      ]
     },
     "execution_count": 12,
     "metadata": {},
     "output_type": "execute_result"
    }
   ],
   "source": [
    "var a [2]int\n",
    "a[0] = 0\n",
    "a[1] = 1\n",
    "fmt.Println(a)"
   ]
  }
 ],
 "metadata": {
  "kernelspec": {
   "display_name": "Go",
   "language": "go",
   "name": "gophernotes"
  },
  "language_info": {
   "codemirror_mode": "",
   "file_extension": ".go",
   "mimetype": "",
   "name": "go",
   "nbconvert_exporter": "",
   "pygments_lexer": "",
   "version": "go1.21.0"
  }
 },
 "nbformat": 4,
 "nbformat_minor": 5
}
