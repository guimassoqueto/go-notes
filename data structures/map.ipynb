{
 "cells": [
  {
   "cell_type": "markdown",
   "id": "7657e2e6-5467-44be-89dc-d190ecb53083",
   "metadata": {},
   "source": [
    "* key/value storage\n",
    "* UNORDERED group of elements, indexed by a set of unique keys of an predefined type, called key"
   ]
  },
  {
   "cell_type": "code",
   "execution_count": 3,
   "id": "40cd7cc2-0140-4484-a38c-fa324e6ed0bd",
   "metadata": {},
   "outputs": [],
   "source": [
    "import \"fmt\""
   ]
  },
  {
   "cell_type": "code",
   "execution_count": 4,
   "id": "772a4226-bfa1-4842-be16-e5b0f90a0a45",
   "metadata": {},
   "outputs": [
    {
     "name": "stdout",
     "output_type": "stream",
     "text": [
      "Jordi 28\n",
      "Juan 15\n"
     ]
    }
   ],
   "source": [
    "ages := map[string]int {\n",
    "    \"Jordi\": 28,\n",
    "    \"Juan\": 15,\n",
    "}\n",
    "\n",
    "for i, v := range(ages) {\n",
    "    fmt.Println(i, v)\n",
    "}\n"
   ]
  },
  {
   "cell_type": "markdown",
   "id": "7318aabb-64b2-4b56-b8b3-a18ddeb60bfa",
   "metadata": {},
   "source": [
    "### Using Make"
   ]
  },
  {
   "cell_type": "code",
   "execution_count": 5,
   "id": "ecae3792-eb03-4bec-a892-8169d9fffa01",
   "metadata": {},
   "outputs": [
    {
     "name": "stdout",
     "output_type": "stream",
     "text": [
      "Guilherme 30\n",
      "José 8\n"
     ]
    }
   ],
   "source": [
    "m := make(map[string]int)\n",
    "m[\"Guilherme\"] = 30\n",
    "m[\"José\"] = 8\n",
    "\n",
    "for i, v := range(m) {\n",
    "    fmt.Println(i, v)\n",
    "}"
   ]
  },
  {
   "cell_type": "markdown",
   "id": "41dfb869-04b7-41c5-b30c-b643c19eb808",
   "metadata": {},
   "source": [
    "### Deleting from a map"
   ]
  },
  {
   "cell_type": "code",
   "execution_count": 6,
   "id": "fb0c8faf-4e64-4cba-ace4-95135dd62589",
   "metadata": {},
   "outputs": [
    {
     "data": {
      "text/plain": [
       "map[Jose:58]"
      ]
     },
     "execution_count": 6,
     "metadata": {},
     "output_type": "execute_result"
    }
   ],
   "source": [
    "somemap := map[string]int{\n",
    "    \"Jose\": 58,\n",
    "    \"Toninho\": 30,\n",
    "}\n",
    "delete(somemap,\"Inexist\") // wont panic\n",
    "delete(somemap, \"Toninho\")\n",
    "somemap"
   ]
  },
  {
   "cell_type": "markdown",
   "id": "57f917d9-e1a5-46fd-996b-a33506efa560",
   "metadata": {},
   "source": [
    "### Checking if a kay is in a map"
   ]
  },
  {
   "cell_type": "code",
   "execution_count": 7,
   "id": "88689e72-f295-47d3-a3dc-116f7b52ebce",
   "metadata": {},
   "outputs": [
    {
     "name": "stdout",
     "output_type": "stream",
     "text": [
      "Silva\n"
     ]
    }
   ],
   "source": [
    "m := map[string]string{\n",
    "    \"fname\": \"José\",\n",
    "    \"lname\": \"Silva\",\n",
    "}\n",
    "\n",
    "if fname, ok := m[\"lname\"]; ok {\n",
    "    fmt.Println(fname)\n",
    "}"
   ]
  },
  {
   "cell_type": "code",
   "execution_count": null,
   "id": "79efdf9b-4221-480f-a35b-b935d2550087",
   "metadata": {},
   "outputs": [],
   "source": []
  }
 ],
 "metadata": {
  "kernelspec": {
   "display_name": "Go",
   "language": "go",
   "name": "gophernotes"
  },
  "language_info": {
   "codemirror_mode": "",
   "file_extension": ".go",
   "mimetype": "",
   "name": "go",
   "nbconvert_exporter": "",
   "pygments_lexer": "",
   "version": "go1.21.0"
  }
 },
 "nbformat": 4,
 "nbformat_minor": 5
}
