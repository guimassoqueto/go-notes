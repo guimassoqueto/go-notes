{
 "cells": [
  {
   "cell_type": "markdown",
   "id": "8a09d965-2e36-4386-93fc-bb9b19e022d8",
   "metadata": {},
   "source": [
    "* built on top of arrays\n",
    "* holds values of the same type\n",
    "* size changes\n",
    "* has lenght and capacity"
   ]
  },
  {
   "cell_type": "code",
   "execution_count": 3,
   "id": "22e826b8-ea9d-4d8c-9970-a40ac8c9c461",
   "metadata": {},
   "outputs": [],
   "source": [
    "import \"fmt\""
   ]
  },
  {
   "cell_type": "code",
   "execution_count": 5,
   "id": "60d58270-a7a8-4886-bdd6-d587cffd42d5",
   "metadata": {},
   "outputs": [
    {
     "name": "stdout",
     "output_type": "stream",
     "text": [
      "[Guilherme]\n"
     ]
    },
    {
     "data": {
      "text/plain": [
       "12 <nil>"
      ]
     },
     "execution_count": 5,
     "metadata": {},
     "output_type": "execute_result"
    }
   ],
   "source": [
    "slc := []string{\"Guilherme\"}\n",
    "fmt.Println(slc)"
   ]
  },
  {
   "cell_type": "code",
   "execution_count": 6,
   "id": "fbf40206-abb0-404d-b4b1-fa04e88101b3",
   "metadata": {},
   "outputs": [
    {
     "data": {
      "text/plain": [
       "Guilherme"
      ]
     },
     "execution_count": 6,
     "metadata": {},
     "output_type": "execute_result"
    }
   ],
   "source": [
    "slc[0]"
   ]
  },
  {
   "cell_type": "markdown",
   "id": "cb417e90-ce9c-44cf-bb35-fa6b249cb967",
   "metadata": {},
   "source": [
    "### Appendind to a slice"
   ]
  },
  {
   "cell_type": "code",
   "execution_count": 7,
   "id": "03b3e579-1126-4df0-8f9e-3ae698f258f9",
   "metadata": {},
   "outputs": [],
   "source": [
    "slice1 := []string{\"Guilherme\"}\n",
    "slice1 = append(slice1, \"Antonio\", \"Massoqueto\")"
   ]
  },
  {
   "cell_type": "code",
   "execution_count": 8,
   "id": "3b8e04d0-a805-47c4-85ae-4a13b2bf0e30",
   "metadata": {},
   "outputs": [
    {
     "name": "stdout",
     "output_type": "stream",
     "text": [
      "[Guilherme Antonio Massoqueto]\n"
     ]
    },
    {
     "data": {
      "text/plain": [
       "31 <nil>"
      ]
     },
     "execution_count": 8,
     "metadata": {},
     "output_type": "execute_result"
    }
   ],
   "source": [
    "fmt.Println(slice1)"
   ]
  },
  {
   "cell_type": "markdown",
   "id": "fd2ff010-d3d7-49eb-abe6-a033a3a0cad9",
   "metadata": {},
   "source": [
    "### Slicing a slice"
   ]
  },
  {
   "cell_type": "code",
   "execution_count": 9,
   "id": "925026df-c42b-46f4-a2f3-97fe249e93d1",
   "metadata": {},
   "outputs": [],
   "source": [
    "slice2 := []int{0,1,2,3}"
   ]
  },
  {
   "cell_type": "code",
   "execution_count": 31,
   "id": "77258c8e-29b7-4d7a-b2cd-5b5ac4e3d357",
   "metadata": {},
   "outputs": [
    {
     "data": {
      "text/plain": [
       "[0 1 2]"
      ]
     },
     "execution_count": 31,
     "metadata": {},
     "output_type": "execute_result"
    }
   ],
   "source": [
    "slice2[:3]"
   ]
  },
  {
   "cell_type": "markdown",
   "id": "c1a9ae6e-f9e8-4269-8bd1-d45b4af17d90",
   "metadata": {},
   "source": [
    "### Deleting from a slice"
   ]
  },
  {
   "cell_type": "code",
   "execution_count": 43,
   "id": "9beeb947-fcf6-44aa-a628-763b1f4a6baf",
   "metadata": {},
   "outputs": [],
   "source": [
    "slice3 := []int{0,1,2,3,4,5,6,7,8,9}\n",
    "slice3 = append(slice3[0:3], slice3[7:]...)"
   ]
  },
  {
   "cell_type": "code",
   "execution_count": 44,
   "id": "d8116f10-cf81-4ac1-87c5-36535c849530",
   "metadata": {},
   "outputs": [
    {
     "data": {
      "text/plain": [
       "[0 1 2 7 8 9]"
      ]
     },
     "execution_count": 44,
     "metadata": {},
     "output_type": "execute_result"
    }
   ],
   "source": [
    "slice3"
   ]
  },
  {
   "cell_type": "markdown",
   "id": "693fd541-5670-4765-b611-dabf3b966f69",
   "metadata": {},
   "source": [
    "### Make"
   ]
  },
  {
   "cell_type": "markdown",
   "id": "d70073ae-9654-4921-bf92-66428e9c1cf8",
   "metadata": {},
   "source": [
    "Init an array of size 10 adding elements starting at position 3 "
   ]
  },
  {
   "cell_type": "code",
   "execution_count": 50,
   "id": "122dfb0d-d141-4c02-b9d9-e84f1b410e5c",
   "metadata": {},
   "outputs": [],
   "source": [
    "slice4 := make([]int, 3, 10)"
   ]
  },
  {
   "cell_type": "code",
   "execution_count": 51,
   "id": "b087df93-bb68-4492-ad8d-8bec2d9ff116",
   "metadata": {},
   "outputs": [
    {
     "data": {
      "text/plain": [
       "3"
      ]
     },
     "execution_count": 51,
     "metadata": {},
     "output_type": "execute_result"
    }
   ],
   "source": [
    "len(slice4)"
   ]
  },
  {
   "cell_type": "code",
   "execution_count": 52,
   "id": "440f6afa-2c1d-4ed0-99c0-180014f0c42a",
   "metadata": {},
   "outputs": [
    {
     "data": {
      "text/plain": [
       "10"
      ]
     },
     "execution_count": 52,
     "metadata": {},
     "output_type": "execute_result"
    }
   ],
   "source": [
    "cap(slice4)"
   ]
  },
  {
   "cell_type": "code",
   "execution_count": 53,
   "id": "131ed689-807f-4781-ae50-ca668279b9b4",
   "metadata": {},
   "outputs": [],
   "source": [
    "slice4 = append(slice4, 0, 1, 2)"
   ]
  },
  {
   "cell_type": "code",
   "execution_count": 54,
   "id": "29804c9d-9d35-4cdb-a0f4-8ae7154d397e",
   "metadata": {},
   "outputs": [
    {
     "data": {
      "text/plain": [
       "[0 0 0 0 1 2]"
      ]
     },
     "execution_count": 54,
     "metadata": {},
     "output_type": "execute_result"
    }
   ],
   "source": [
    "slice4"
   ]
  },
  {
   "cell_type": "markdown",
   "id": "92670d96-49a5-4721-8109-83b95b543bc2",
   "metadata": {},
   "source": [
    "### Copy "
   ]
  },
  {
   "cell_type": "code",
   "execution_count": 69,
   "id": "9d16def5-ad93-4ab6-8493-fd6d720b63c1",
   "metadata": {},
   "outputs": [],
   "source": [
    "sliceOriginal := []int{5,6,7,8}"
   ]
  },
  {
   "cell_type": "code",
   "execution_count": 70,
   "id": "237a4824-47fd-4aaa-b63c-25a9afd6b2f9",
   "metadata": {},
   "outputs": [],
   "source": [
    "sliceCopy := make([]int, len(slice5))"
   ]
  },
  {
   "cell_type": "code",
   "execution_count": 71,
   "id": "7528b759-c1b5-4a41-9adc-270eb9879659",
   "metadata": {},
   "outputs": [
    {
     "data": {
      "text/plain": [
       "[0 0 0 0]"
      ]
     },
     "execution_count": 71,
     "metadata": {},
     "output_type": "execute_result"
    }
   ],
   "source": [
    "sliceCopy"
   ]
  },
  {
   "cell_type": "code",
   "execution_count": 72,
   "id": "2cd546ee-a0be-4198-a01b-7eb294b05901",
   "metadata": {},
   "outputs": [],
   "source": [
    "copy(sliceCopy, sliceOriginal)"
   ]
  },
  {
   "cell_type": "code",
   "execution_count": 73,
   "id": "42749940-8741-4bf2-b3a1-1815a6a6dc4a",
   "metadata": {},
   "outputs": [
    {
     "data": {
      "text/plain": [
       "[5 6 7 8]"
      ]
     },
     "execution_count": 73,
     "metadata": {},
     "output_type": "execute_result"
    }
   ],
   "source": [
    "sliceCopy"
   ]
  },
  {
   "cell_type": "code",
   "execution_count": null,
   "id": "39026d4a-eb51-4c28-9a80-e32f25a0c2e8",
   "metadata": {},
   "outputs": [],
   "source": []
  }
 ],
 "metadata": {
  "kernelspec": {
   "display_name": "Go",
   "language": "go",
   "name": "gophernotes"
  },
  "language_info": {
   "codemirror_mode": "",
   "file_extension": ".go",
   "mimetype": "",
   "name": "go",
   "nbconvert_exporter": "",
   "pygments_lexer": "",
   "version": "go1.21.0"
  }
 },
 "nbformat": 4,
 "nbformat_minor": 5
}
