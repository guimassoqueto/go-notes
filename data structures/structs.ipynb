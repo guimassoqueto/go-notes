{
 "cells": [
  {
   "cell_type": "markdown",
   "id": "5195787f-5261-4e68-9396-f003964a261e",
   "metadata": {},
   "source": [
    "* is a data structure\n",
    "* composite type"
   ]
  },
  {
   "cell_type": "code",
   "execution_count": 8,
   "id": "84ae1a87-af04-4240-8010-bfa9d6bbe12b",
   "metadata": {},
   "outputs": [],
   "source": [
    "import (\n",
    "    \"encoding/json\"\n",
    "    \"fmt\"\n",
    ")"
   ]
  },
  {
   "cell_type": "code",
   "execution_count": 17,
   "id": "507d9684-7b9f-4ed4-b407-dcbb6d5741ff",
   "metadata": {},
   "outputs": [],
   "source": [
    "type person struct {\n",
    "    FirstName string `json:\"firstName\"`\n",
    "    LastName string `json:\"lastName\"`\n",
    "    Age int `json:\"age\"`\n",
    "}"
   ]
  },
  {
   "cell_type": "code",
   "execution_count": 18,
   "id": "b58d6647-d2e1-4f12-b6bf-1ac34f1961ba",
   "metadata": {},
   "outputs": [],
   "source": [
    "p1 := person{\n",
    "    FirstName: \"Guilherme\",\n",
    "    LastName: \"Massoqueto\",\n",
    "    Age: 30,\n",
    "}"
   ]
  },
  {
   "cell_type": "code",
   "execution_count": 19,
   "id": "dae636e6-33ce-4a87-82d2-57fc54e18073",
   "metadata": {},
   "outputs": [
    {
     "data": {
      "text/plain": [
       "Guilherme"
      ]
     },
     "execution_count": 19,
     "metadata": {},
     "output_type": "execute_result"
    }
   ],
   "source": [
    "p1.FirstName"
   ]
  },
  {
   "cell_type": "markdown",
   "id": "69ed60b9-aa28-4a05-9d22-d2f50e21e343",
   "metadata": {},
   "source": [
    "### Json Marshal"
   ]
  },
  {
   "cell_type": "code",
   "execution_count": 20,
   "id": "93db81c6-b5c5-45a1-b9a7-e9fde64e2505",
   "metadata": {},
   "outputs": [
    {
     "name": "stdout",
     "output_type": "stream",
     "text": [
      "{\"firstName\":\"Guilherme\",\"lastName\":\"Massoqueto\",\"age\":30}\n"
     ]
    },
    {
     "data": {
      "text/plain": [
       "59 <nil>"
      ]
     },
     "execution_count": 20,
     "metadata": {},
     "output_type": "execute_result"
    }
   ],
   "source": [
    "u, err := json.Marshal(p1)\n",
    "if err != nil {\n",
    "    panic(err)\n",
    "}\n",
    "fmt.Println(string(u))"
   ]
  },
  {
   "cell_type": "markdown",
   "id": "5bdb4d1c-288b-4cd9-824d-e42d10588499",
   "metadata": {},
   "source": [
    "### JsonUnmarshal"
   ]
  },
  {
   "cell_type": "code",
   "execution_count": 44,
   "id": "6bb4cb5d-d3d2-4641-9e57-4a263bdb4001",
   "metadata": {},
   "outputs": [],
   "source": [
    "str := `{\"firstName\":\"Maria\",\"lastName\":\"Antonieta\",\"age\":25}`\n",
    "p2 := person{}\n",
    "err := json.Unmarshal([]byte(str), &p2)\n",
    "if err != nil {\n",
    "    panic(err)\n",
    "}"
   ]
  },
  {
   "cell_type": "code",
   "execution_count": 45,
   "id": "752bd9e2-717f-4c77-ba7b-92b6a5e6966a",
   "metadata": {},
   "outputs": [
    {
     "data": {
      "text/plain": [
       "Maria"
      ]
     },
     "execution_count": 45,
     "metadata": {},
     "output_type": "execute_result"
    }
   ],
   "source": [
    "p2.FirstName"
   ]
  },
  {
   "cell_type": "markdown",
   "id": "6cac6b58-ce47-4670-a229-a3200d14f033",
   "metadata": {},
   "source": [
    "### Ebedded Structs"
   ]
  },
  {
   "cell_type": "code",
   "execution_count": 46,
   "id": "7aa4689d-6566-4a6e-87ff-3c479598ef74",
   "metadata": {},
   "outputs": [],
   "source": [
    "type secretAgent struct {\n",
    "    person\n",
    "    LicenseToKill bool `json:\"licenseToKill\"`\n",
    "}"
   ]
  },
  {
   "cell_type": "code",
   "execution_count": 47,
   "id": "d9a88f2d-093a-4a75-9c4e-3aacc6cacf7b",
   "metadata": {},
   "outputs": [],
   "source": [
    "agent1 := secretAgent{\n",
    "   person: person{\n",
    "       FirstName: \"James\",\n",
    "       LastName: \"Bond\",\n",
    "       Age: 40,\n",
    "   },\n",
    "   LicenseToKill: true,\n",
    "}\n"
   ]
  },
  {
   "cell_type": "code",
   "execution_count": 48,
   "id": "561b615f-d3c5-4077-8764-f3c3d9396486",
   "metadata": {},
   "outputs": [
    {
     "data": {
      "text/plain": [
       "James"
      ]
     },
     "execution_count": 48,
     "metadata": {},
     "output_type": "execute_result"
    }
   ],
   "source": [
    "agent1.FirstName"
   ]
  },
  {
   "cell_type": "code",
   "execution_count": 49,
   "id": "e71b441a-afe2-489f-b315-33900b543620",
   "metadata": {},
   "outputs": [
    {
     "data": {
      "text/plain": [
       "true"
      ]
     },
     "execution_count": 49,
     "metadata": {},
     "output_type": "execute_result"
    }
   ],
   "source": [
    "agent1.LicenseToKill"
   ]
  },
  {
   "cell_type": "markdown",
   "id": "1c59b135-d48b-4feb-a243-688d201e69df",
   "metadata": {},
   "source": [
    "### Anonymous Struct"
   ]
  },
  {
   "cell_type": "code",
   "execution_count": 50,
   "id": "d2429e84-b37c-4a54-8ac6-3b2f69d3c328",
   "metadata": {},
   "outputs": [],
   "source": [
    "child := struct {\n",
    "    First string `json:\"first\"`\n",
    "    Last string `json:\"last\"`\n",
    "} {\n",
    "    First: \"Joe\",\n",
    "    Last: \"Retarded\",\n",
    "}"
   ]
  },
  {
   "cell_type": "code",
   "execution_count": 51,
   "id": "91eb136a-47b8-4910-8e9a-d42c50708fa3",
   "metadata": {},
   "outputs": [
    {
     "data": {
      "text/plain": [
       "{Joe Retarded}"
      ]
     },
     "execution_count": 51,
     "metadata": {},
     "output_type": "execute_result"
    }
   ],
   "source": [
    "child"
   ]
  },
  {
   "cell_type": "code",
   "execution_count": null,
   "id": "a87ea222-4144-4dad-b11a-190579069375",
   "metadata": {},
   "outputs": [],
   "source": []
  }
 ],
 "metadata": {
  "kernelspec": {
   "display_name": "Go",
   "language": "go",
   "name": "gophernotes"
  },
  "language_info": {
   "codemirror_mode": "",
   "file_extension": ".go",
   "mimetype": "",
   "name": "go",
   "nbconvert_exporter": "",
   "pygments_lexer": "",
   "version": "go1.21.0"
  }
 },
 "nbformat": 4,
 "nbformat_minor": 5
}
