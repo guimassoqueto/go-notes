{
 "cells": [
  {
   "cell_type": "markdown",
   "id": "907f50a5-9fae-4650-8405-8a645559e3ee",
   "metadata": {},
   "source": [
    "func (receiver) identifier(parameters) (returns) { code }"
   ]
  },
  {
   "cell_type": "code",
   "execution_count": 2,
   "id": "08b7a3f0-8657-4234-ae1d-d9abb9ab7486",
   "metadata": {},
   "outputs": [],
   "source": [
    "import \"fmt\""
   ]
  },
  {
   "cell_type": "code",
   "execution_count": 4,
   "id": "cc12a849-d9df-4b02-832e-2476e4988b3f",
   "metadata": {},
   "outputs": [],
   "source": [
    "func foo() {\n",
    "    fmt.Println(\"I Am From Foo\")\n",
    "}"
   ]
  },
  {
   "cell_type": "code",
   "execution_count": 5,
   "id": "c2db088b-0209-46d5-b940-30846b1f8eb3",
   "metadata": {},
   "outputs": [
    {
     "name": "stdout",
     "output_type": "stream",
     "text": [
      "I Am From Foo\n"
     ]
    }
   ],
   "source": [
    "foo()"
   ]
  },
  {
   "cell_type": "code",
   "execution_count": 6,
   "id": "cd8b9196-b4d5-419e-b07c-a6c4a94385f5",
   "metadata": {},
   "outputs": [],
   "source": [
    "func bar(name string) {\n",
    "    fmt.Println(\"My name is\", name)\n",
    "}"
   ]
  },
  {
   "cell_type": "code",
   "execution_count": 8,
   "id": "86934ea2-dd64-4967-8fb0-52544591e26f",
   "metadata": {},
   "outputs": [
    {
     "name": "stdout",
     "output_type": "stream",
     "text": [
      "My name is guilherme\n"
     ]
    }
   ],
   "source": [
    "bar(\"guilherme\")"
   ]
  },
  {
   "cell_type": "code",
   "execution_count": 9,
   "id": "06db60b2-6611-4e89-a493-48cf10b3b788",
   "metadata": {},
   "outputs": [],
   "source": [
    "func aloha(name string) string {\n",
    "    return fmt.Sprintf(\"Aloha! My name is %s\", name)\n",
    "}"
   ]
  },
  {
   "cell_type": "code",
   "execution_count": 10,
   "id": "9ae47902-da1c-4bf6-b320-9d5ae5b879aa",
   "metadata": {},
   "outputs": [],
   "source": [
    "name := aloha(\"Guilherme\")"
   ]
  },
  {
   "cell_type": "code",
   "execution_count": 11,
   "id": "80ff1dc6-e279-407a-bec8-2c79ce4b6a66",
   "metadata": {},
   "outputs": [
    {
     "data": {
      "text/plain": [
       "Aloha! My name is Guilherme"
      ]
     },
     "execution_count": 11,
     "metadata": {},
     "output_type": "execute_result"
    }
   ],
   "source": [
    "name"
   ]
  },
  {
   "cell_type": "markdown",
   "id": "33f24924-b381-46a2-a7fe-cfd59853887a",
   "metadata": {},
   "source": [
    "**Multiple returns**"
   ]
  },
  {
   "cell_type": "code",
   "execution_count": 13,
   "id": "092d4898-fb11-445c-8a6f-fdb5f318cda4",
   "metadata": {},
   "outputs": [],
   "source": [
    "func dog(name string, owner string) (string, string) {\n",
    "    dogName := name\n",
    "    ownerName := owner\n",
    "    return dogName, ownerName\n",
    "}"
   ]
  },
  {
   "cell_type": "code",
   "execution_count": 15,
   "id": "d97ed6bb-413b-4081-a946-ee6ddded11a2",
   "metadata": {},
   "outputs": [],
   "source": [
    "dog, owner := dog(\"Cachorro\", \"Dono\")"
   ]
  },
  {
   "cell_type": "code",
   "execution_count": 16,
   "id": "c1db7529-a5ca-45d7-9f59-fbd338e19e4b",
   "metadata": {},
   "outputs": [
    {
     "data": {
      "text/plain": [
       "Cachorro"
      ]
     },
     "execution_count": 16,
     "metadata": {},
     "output_type": "execute_result"
    }
   ],
   "source": [
    "dog"
   ]
  },
  {
   "cell_type": "code",
   "execution_count": 17,
   "id": "4549d222-c54f-415f-b7fa-368bcf45fce6",
   "metadata": {},
   "outputs": [
    {
     "data": {
      "text/plain": [
       "Dono"
      ]
     },
     "execution_count": 17,
     "metadata": {},
     "output_type": "execute_result"
    }
   ],
   "source": [
    "owner"
   ]
  }
 ],
 "metadata": {
  "kernelspec": {
   "display_name": "Go",
   "language": "go",
   "name": "gophernotes"
  },
  "language_info": {
   "codemirror_mode": "",
   "file_extension": ".go",
   "mimetype": "",
   "name": "go",
   "nbconvert_exporter": "",
   "pygments_lexer": "",
   "version": "go1.21.0"
  }
 },
 "nbformat": 4,
 "nbformat_minor": 5
}
