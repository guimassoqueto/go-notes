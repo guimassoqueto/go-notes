{
 "cells": [
  {
   "cell_type": "code",
   "execution_count": 8,
   "id": "7e23df26-fc4b-48f1-ab8e-c130daeaa494",
   "metadata": {},
   "outputs": [],
   "source": [
    "func doCalc(a int, b int, c func(int, int) int) int {\n",
    "    return c(a, b)\n",
    "}"
   ]
  },
  {
   "cell_type": "code",
   "execution_count": 9,
   "id": "5df85680-8eba-421d-8b9b-6cfa8425dfd8",
   "metadata": {},
   "outputs": [],
   "source": [
    "func add(a int, b int) int {\n",
    "    return a + b\n",
    "}"
   ]
  },
  {
   "cell_type": "code",
   "execution_count": 10,
   "id": "e426c402-8cfd-46d7-a72c-16003d92df86",
   "metadata": {},
   "outputs": [],
   "source": [
    "func sub(a int, b int) int {\n",
    "    return a - b\n",
    "}"
   ]
  },
  {
   "cell_type": "code",
   "execution_count": 11,
   "id": "38c67dce-8660-4fd2-bd3a-ee20078bc458",
   "metadata": {},
   "outputs": [
    {
     "data": {
      "text/plain": [
       "13"
      ]
     },
     "execution_count": 11,
     "metadata": {},
     "output_type": "execute_result"
    }
   ],
   "source": [
    "doCalc(10,3,add)"
   ]
  },
  {
   "cell_type": "code",
   "execution_count": 12,
   "id": "4ca038ed-e6e2-46c9-a309-849f541ba550",
   "metadata": {},
   "outputs": [
    {
     "data": {
      "text/plain": [
       "7"
      ]
     },
     "execution_count": 12,
     "metadata": {},
     "output_type": "execute_result"
    }
   ],
   "source": [
    "doCalc(10, 3, sub)"
   ]
  },
  {
   "cell_type": "code",
   "execution_count": null,
   "id": "d873f42e-5cb2-4533-b459-a1dcb239311e",
   "metadata": {},
   "outputs": [],
   "source": []
  }
 ],
 "metadata": {
  "kernelspec": {
   "display_name": "Go",
   "language": "go",
   "name": "gophernotes"
  },
  "language_info": {
   "codemirror_mode": "",
   "file_extension": ".go",
   "mimetype": "",
   "name": "go",
   "nbconvert_exporter": "",
   "pygments_lexer": "",
   "version": "go1.21.0"
  }
 },
 "nbformat": 4,
 "nbformat_minor": 5
}
