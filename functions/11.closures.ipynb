{
 "cells": [
  {
   "cell_type": "code",
   "execution_count": 2,
   "id": "944340a5-550a-4b9f-9b4d-b07ae3c94da5",
   "metadata": {},
   "outputs": [],
   "source": [
    "import \"fmt\""
   ]
  },
  {
   "cell_type": "code",
   "execution_count": 3,
   "id": "fd8b9e30-265d-4bc4-8b76-afe1b3187a84",
   "metadata": {},
   "outputs": [],
   "source": [
    "func incrementor() func() int {\n",
    "    x := 0\n",
    "    return func() int {\n",
    "        x++\n",
    "        return x\n",
    "    }\n",
    "}"
   ]
  },
  {
   "cell_type": "code",
   "execution_count": 4,
   "id": "b7379247-c4e3-415b-a7fd-7e9c22c07312",
   "metadata": {},
   "outputs": [
    {
     "data": {
      "text/plain": [
       "4"
      ]
     },
     "execution_count": 4,
     "metadata": {},
     "output_type": "execute_result"
    }
   ],
   "source": [
    "x := incrementor()\n",
    "x()\n",
    "x()\n",
    "x()\n",
    "x()"
   ]
  },
  {
   "cell_type": "code",
   "execution_count": 6,
   "id": "148a630f-bc7c-448b-853b-dc36ea71d270",
   "metadata": {},
   "outputs": [
    {
     "data": {
      "text/plain": [
       "5"
      ]
     },
     "execution_count": 6,
     "metadata": {},
     "output_type": "execute_result"
    }
   ],
   "source": [
    "x()"
   ]
  },
  {
   "cell_type": "code",
   "execution_count": null,
   "id": "077a0270-b338-4647-8efc-2a8b7eca38d2",
   "metadata": {},
   "outputs": [],
   "source": []
  }
 ],
 "metadata": {
  "kernelspec": {
   "display_name": "Go",
   "language": "go",
   "name": "gophernotes"
  },
  "language_info": {
   "codemirror_mode": "",
   "file_extension": ".go",
   "mimetype": "",
   "name": "go",
   "nbconvert_exporter": "",
   "pygments_lexer": "",
   "version": "go1.21.0"
  }
 },
 "nbformat": 4,
 "nbformat_minor": 5
}
