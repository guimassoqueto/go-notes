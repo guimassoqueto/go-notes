{
 "cells": [
  {
   "cell_type": "markdown",
   "id": "793d8c9f-6311-47c3-92b7-ec4e51880120",
   "metadata": {},
   "source": [
    "### Recursion"
   ]
  },
  {
   "cell_type": "code",
   "execution_count": 13,
   "id": "33eb5667-b165-4686-a371-1473dff2806d",
   "metadata": {},
   "outputs": [],
   "source": [
    "func factorial(n int) int {\n",
    "    if  n <= 0 { return 1 }\n",
    "    return n * factorial(n-1)\n",
    "}"
   ]
  },
  {
   "cell_type": "code",
   "execution_count": 15,
   "id": "be2cb611-8834-4eb2-9e26-02106eaf6e55",
   "metadata": {},
   "outputs": [
    {
     "data": {
      "text/plain": [
       "1"
      ]
     },
     "execution_count": 15,
     "metadata": {},
     "output_type": "execute_result"
    }
   ],
   "source": [
    "factorial(-50)"
   ]
  },
  {
   "cell_type": "code",
   "execution_count": null,
   "id": "e15117b2-d517-4a43-a867-8c1920eba57f",
   "metadata": {},
   "outputs": [],
   "source": []
  }
 ],
 "metadata": {
  "kernelspec": {
   "display_name": "Go",
   "language": "go",
   "name": "gophernotes"
  },
  "language_info": {
   "codemirror_mode": "",
   "file_extension": ".go",
   "mimetype": "",
   "name": "go",
   "nbconvert_exporter": "",
   "pygments_lexer": "",
   "version": "go1.21.0"
  }
 },
 "nbformat": 4,
 "nbformat_minor": 5
}
