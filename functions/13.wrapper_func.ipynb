{
 "cells": [
  {
   "cell_type": "code",
   "execution_count": 81,
   "id": "1c63de71-27b3-4367-aeba-e970690eef2c",
   "metadata": {},
   "outputs": [],
   "source": [
    "import (\n",
    "    \"fmt\"\n",
    "    \"time\"\n",
    ")"
   ]
  },
  {
   "cell_type": "code",
   "execution_count": 106,
   "id": "ca81fdd1-1abb-4553-b1c1-655b5d652edc",
   "metadata": {},
   "outputs": [],
   "source": [
    "func TimeIt(f func(int) int) func(int) (int, time.Duration) {\n",
    "    return func(n int) (int, time.Duration) {\n",
    "        start := time.Now()\n",
    "        result := f(n)\n",
    "        duration := time.Since(start)\n",
    "        return result, duration\n",
    "    }\n",
    "}"
   ]
  },
  {
   "cell_type": "code",
   "execution_count": 122,
   "id": "5700974b-8665-4008-b96f-eeb72ee6236d",
   "metadata": {},
   "outputs": [],
   "source": [
    "func factorial(n int) int {\n",
    "    if n == 0 { return 1 }\n",
    "    return n * factorial(n - 1)\n",
    "}"
   ]
  },
  {
   "cell_type": "code",
   "execution_count": 123,
   "id": "a2461628-1247-47d1-82af-6b077fa3835a",
   "metadata": {},
   "outputs": [],
   "source": [
    "x := Timer(factorial)"
   ]
  },
  {
   "cell_type": "code",
   "execution_count": 124,
   "id": "b53a68cd-3602-4fa4-9356-2b745ed63151",
   "metadata": {},
   "outputs": [],
   "source": [
    "result, dur := x(10)"
   ]
  },
  {
   "cell_type": "code",
   "execution_count": 125,
   "id": "fecba422-f0b0-4afd-bcf9-27f9dd27f4a0",
   "metadata": {},
   "outputs": [
    {
     "data": {
      "text/plain": [
       "3628800"
      ]
     },
     "execution_count": 125,
     "metadata": {},
     "output_type": "execute_result"
    }
   ],
   "source": [
    "result"
   ]
  },
  {
   "cell_type": "code",
   "execution_count": 126,
   "id": "53e45a90-48b5-43a4-ad2c-bf160c748558",
   "metadata": {},
   "outputs": [
    {
     "data": {
      "text/plain": [
       "15.06µs"
      ]
     },
     "execution_count": 126,
     "metadata": {},
     "output_type": "execute_result"
    }
   ],
   "source": [
    "dur"
   ]
  },
  {
   "cell_type": "code",
   "execution_count": null,
   "id": "e95ded58-02a5-4fce-9879-c6ad28c8990d",
   "metadata": {},
   "outputs": [],
   "source": []
  },
  {
   "cell_type": "code",
   "execution_count": null,
   "id": "14fc9eae-7fbc-44ef-afe1-cc8d5fa4df7b",
   "metadata": {},
   "outputs": [],
   "source": []
  }
 ],
 "metadata": {
  "kernelspec": {
   "display_name": "Go",
   "language": "go",
   "name": "gophernotes"
  },
  "language_info": {
   "codemirror_mode": "",
   "file_extension": ".go",
   "mimetype": "",
   "name": "go",
   "nbconvert_exporter": "",
   "pygments_lexer": "",
   "version": "go1.21.0"
  }
 },
 "nbformat": 4,
 "nbformat_minor": 5
}
