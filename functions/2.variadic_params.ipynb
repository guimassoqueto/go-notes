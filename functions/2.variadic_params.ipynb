{
 "cells": [
  {
   "cell_type": "code",
   "execution_count": 9,
   "id": "3fcb4a28-555f-44da-9575-966f54b8f9eb",
   "metadata": {},
   "outputs": [],
   "source": [
    "import \"fmt\""
   ]
  },
  {
   "cell_type": "code",
   "execution_count": 10,
   "id": "2a027499-3991-4c22-a462-dcfd9da45e17",
   "metadata": {},
   "outputs": [],
   "source": [
    "func total(number ...int) int {\n",
    "    total := 0\n",
    "    for _, v := range number {\n",
    "        total += v\n",
    "    }\n",
    "    return total\n",
    "}"
   ]
  },
  {
   "cell_type": "code",
   "execution_count": 11,
   "id": "bbd86e63-c60b-46c9-bfcf-9e3f7fec560f",
   "metadata": {},
   "outputs": [
    {
     "data": {
      "text/plain": [
       "6"
      ]
     },
     "execution_count": 11,
     "metadata": {},
     "output_type": "execute_result"
    }
   ],
   "source": [
    "total(1,2,3)"
   ]
  },
  {
   "cell_type": "code",
   "execution_count": 12,
   "id": "28925516-b0d5-48bc-907e-0457dd2f12af",
   "metadata": {},
   "outputs": [
    {
     "data": {
      "text/plain": [
       "45"
      ]
     },
     "execution_count": 12,
     "metadata": {},
     "output_type": "execute_result"
    }
   ],
   "source": [
    "total(1,2,3,4,5,6,7,8,9)"
   ]
  },
  {
   "cell_type": "code",
   "execution_count": 13,
   "id": "b34508ae-8495-4689-b7f9-d4664845db6b",
   "metadata": {},
   "outputs": [
    {
     "data": {
      "text/plain": [
       "0"
      ]
     },
     "execution_count": 13,
     "metadata": {},
     "output_type": "execute_result"
    }
   ],
   "source": [
    "total()"
   ]
  },
  {
   "cell_type": "markdown",
   "id": "279eb750-b9c2-43f7-b190-b8343cd229df",
   "metadata": {},
   "source": [
    "### With obrigatory field"
   ]
  },
  {
   "cell_type": "code",
   "execution_count": 14,
   "id": "3ffa3514-29b4-44ce-a1dd-c419028559f2",
   "metadata": {},
   "outputs": [],
   "source": [
    "func user(name string, words...string) string {\n",
    "    w := \"\"\n",
    "    for _, v := range words {\n",
    "        w += v\n",
    "    }\n",
    "    return fmt.Sprintf(\"%s %s\", name, w)\n",
    "}"
   ]
  },
  {
   "cell_type": "code",
   "execution_count": 15,
   "id": "8b2ee02e-a228-4492-a7d7-812437f3ab8e",
   "metadata": {},
   "outputs": [
    {
     "data": {
      "text/plain": [
       "Guilherme AntonioMassoqueto"
      ]
     },
     "execution_count": 15,
     "metadata": {},
     "output_type": "execute_result"
    }
   ],
   "source": [
    "user(\"Guilherme\", \"Antonio\", \"Massoqueto\")"
   ]
  },
  {
   "cell_type": "code",
   "execution_count": null,
   "id": "99d1d5c7-9760-4276-afaa-c1f56499b221",
   "metadata": {},
   "outputs": [],
   "source": []
  }
 ],
 "metadata": {
  "kernelspec": {
   "display_name": "Go",
   "language": "go",
   "name": "gophernotes"
  },
  "language_info": {
   "codemirror_mode": "",
   "file_extension": ".go",
   "mimetype": "",
   "name": "go",
   "nbconvert_exporter": "",
   "pygments_lexer": "",
   "version": "go1.21.0"
  }
 },
 "nbformat": 4,
 "nbformat_minor": 5
}
