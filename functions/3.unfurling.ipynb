{
 "cells": [
  {
   "cell_type": "code",
   "execution_count": 1,
   "id": "230d6806-a399-4447-abf6-cd993e78d5fb",
   "metadata": {},
   "outputs": [],
   "source": [
    "func total(number ...int) int {\n",
    "    total := 0\n",
    "    for _, v := range number {\n",
    "        total += v\n",
    "    }\n",
    "    return total\n",
    "}"
   ]
  },
  {
   "cell_type": "code",
   "execution_count": 2,
   "id": "60bb572e-e40b-4f7c-be77-1f2f6f674c51",
   "metadata": {},
   "outputs": [],
   "source": [
    "numbers := []int{1,2,3,4,5,6,7,8,9}"
   ]
  },
  {
   "cell_type": "code",
   "execution_count": 3,
   "id": "004aff26-566f-4c65-9d54-9f292430fc03",
   "metadata": {},
   "outputs": [
    {
     "data": {
      "text/plain": [
       "45"
      ]
     },
     "execution_count": 3,
     "metadata": {},
     "output_type": "execute_result"
    }
   ],
   "source": [
    "total(numbers...)"
   ]
  },
  {
   "cell_type": "code",
   "execution_count": null,
   "id": "a685fff8-32c5-4fe2-b515-02c09d7f9f97",
   "metadata": {},
   "outputs": [],
   "source": []
  }
 ],
 "metadata": {
  "kernelspec": {
   "display_name": "Go",
   "language": "go",
   "name": "gophernotes"
  },
  "language_info": {
   "codemirror_mode": "",
   "file_extension": ".go",
   "mimetype": "",
   "name": "go",
   "nbconvert_exporter": "",
   "pygments_lexer": "",
   "version": "go1.21.0"
  }
 },
 "nbformat": 4,
 "nbformat_minor": 5
}
