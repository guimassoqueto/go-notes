{
 "cells": [
  {
   "cell_type": "code",
   "execution_count": 2,
   "id": "a0684ecc-2a01-4bf1-b916-333fe31b9b49",
   "metadata": {},
   "outputs": [],
   "source": [
    "import \"fmt\""
   ]
  },
  {
   "cell_type": "code",
   "execution_count": 3,
   "id": "76fe68f4-9dd9-4692-81a9-45cd1f297757",
   "metadata": {},
   "outputs": [],
   "source": [
    "func say() {\n",
    "    defer fmt.Println(\"Done.\")\n",
    "\n",
    "    defer fmt.Println(\"Run first\")\n",
    "}"
   ]
  },
  {
   "cell_type": "code",
   "execution_count": 4,
   "id": "08f043b9-0482-44fc-bada-e94ab6dece16",
   "metadata": {},
   "outputs": [
    {
     "name": "stdout",
     "output_type": "stream",
     "text": [
      "Run first\n",
      "Done.\n"
     ]
    }
   ],
   "source": [
    "say()"
   ]
  },
  {
   "cell_type": "code",
   "execution_count": null,
   "id": "995889e3-015e-42ce-a505-f7e042fc866b",
   "metadata": {},
   "outputs": [],
   "source": []
  }
 ],
 "metadata": {
  "kernelspec": {
   "display_name": "Go",
   "language": "go",
   "name": "gophernotes"
  },
  "language_info": {
   "codemirror_mode": "",
   "file_extension": ".go",
   "mimetype": "",
   "name": "go",
   "nbconvert_exporter": "",
   "pygments_lexer": "",
   "version": "go1.21.0"
  }
 },
 "nbformat": 4,
 "nbformat_minor": 5
}
