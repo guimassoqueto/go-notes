{
 "cells": [
  {
   "cell_type": "code",
   "execution_count": 7,
   "id": "a74507a3-c363-4387-9dba-234f595ba078",
   "metadata": {},
   "outputs": [],
   "source": [
    "import  \"fmt\""
   ]
  },
  {
   "cell_type": "code",
   "execution_count": 8,
   "id": "4d055636-b249-4373-b9f5-381ba54f6fdc",
   "metadata": {},
   "outputs": [],
   "source": [
    "type person struct {\n",
    "    Name string `json:\"name\"`\n",
    "}\n",
    "\n",
    "func (p person) speak() {\n",
    "    fmt.Println(\"Hello, I am\", p.Name)\n",
    "}\n",
    "    "
   ]
  },
  {
   "cell_type": "code",
   "execution_count": 9,
   "id": "3857b7a4-8147-444d-9d17-872be0a62a58",
   "metadata": {},
   "outputs": [
    {
     "name": "stdout",
     "output_type": "stream",
     "text": [
      "Hello, I am Guilherme\n"
     ]
    }
   ],
   "source": [
    "guilherme := person{\n",
    "    Name: \"Guilherme\",\n",
    "}\n",
    "guilherme.speak()"
   ]
  },
  {
   "cell_type": "code",
   "execution_count": null,
   "id": "163a5056-c4b5-47a0-9780-a1b7b25b57f9",
   "metadata": {},
   "outputs": [],
   "source": []
  }
 ],
 "metadata": {
  "kernelspec": {
   "display_name": "Go",
   "language": "go",
   "name": "gophernotes"
  },
  "language_info": {
   "codemirror_mode": "",
   "file_extension": ".go",
   "mimetype": "",
   "name": "go",
   "nbconvert_exporter": "",
   "pygments_lexer": "",
   "version": "go1.21.0"
  }
 },
 "nbformat": 4,
 "nbformat_minor": 5
}
