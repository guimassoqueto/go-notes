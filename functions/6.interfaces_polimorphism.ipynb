{
 "cells": [
  {
   "cell_type": "markdown",
   "id": "ff42808c-bd78-4ecc-8658-bfe2b9fa957c",
   "metadata": {},
   "source": [
    " Polimorphism refers to ability of a VALUE of a certain type be of another type"
   ]
  },
  {
   "cell_type": "code",
   "execution_count": 3,
   "id": "8dc9df4d-f66f-4687-85fb-cbe0812d354f",
   "metadata": {},
   "outputs": [],
   "source": [
    "import \"fmt\""
   ]
  },
  {
   "cell_type": "code",
   "execution_count": 7,
   "id": "653ecbed-0886-4994-94fb-1ef0ce35ef70",
   "metadata": {},
   "outputs": [],
   "source": [
    "type person struct {\n",
    "    Name string\n",
    "}\n",
    "\n",
    "type human interface {\n",
    "    speak()\n",
    "}\n",
    "\n",
    "func (p person) speak() {\n",
    "    fmt.Println(\"Hello! i am a person\")\n",
    "}\n",
    "\n",
    "func saySomething(h human) {\n",
    "    h.speak()\n",
    "}"
   ]
  },
  {
   "cell_type": "code",
   "execution_count": 8,
   "id": "ea3c0099-ff6b-4798-8046-aab3e0834ea9",
   "metadata": {},
   "outputs": [],
   "source": [
    "p1 := person{\n",
    "    Name: \"Guilherme\",\n",
    "}"
   ]
  },
  {
   "cell_type": "code",
   "execution_count": 9,
   "id": "f5fc1b6f-0d5d-411e-91b0-b4d35a941a45",
   "metadata": {},
   "outputs": [
    {
     "name": "stdout",
     "output_type": "stream",
     "text": [
      "Hello! i am a person\n"
     ]
    }
   ],
   "source": [
    "p1.speak()"
   ]
  },
  {
   "cell_type": "code",
   "execution_count": 11,
   "id": "4f61775d-1a74-411e-af80-1e0018ec4aca",
   "metadata": {},
   "outputs": [
    {
     "name": "stdout",
     "output_type": "stream",
     "text": [
      "Hello! i am a person\n"
     ]
    }
   ],
   "source": [
    "saySomething(p1)"
   ]
  },
  {
   "cell_type": "code",
   "execution_count": null,
   "id": "3ee1d350-9fd0-47ca-abc1-ff404c721a95",
   "metadata": {},
   "outputs": [],
   "source": []
  },
  {
   "cell_type": "code",
   "execution_count": null,
   "id": "602a7182-d051-4f48-9ab6-853fa8b19611",
   "metadata": {},
   "outputs": [],
   "source": []
  }
 ],
 "metadata": {
  "kernelspec": {
   "display_name": "Go",
   "language": "go",
   "name": "gophernotes"
  },
  "language_info": {
   "codemirror_mode": "",
   "file_extension": ".go",
   "mimetype": "",
   "name": "go",
   "nbconvert_exporter": "",
   "pygments_lexer": "",
   "version": "go1.21.0"
  }
 },
 "nbformat": 4,
 "nbformat_minor": 5
}
