{
 "cells": [
  {
   "cell_type": "code",
   "execution_count": 1,
   "id": "07da30d3-7afb-4715-a74c-838840525220",
   "metadata": {},
   "outputs": [],
   "source": [
    "import \"fmt\""
   ]
  },
  {
   "cell_type": "code",
   "execution_count": 2,
   "id": "67de352b-c046-4dcd-a268-7804fdfbe778",
   "metadata": {},
   "outputs": [],
   "source": [
    "type Person struct {\n",
    "\tName string\n",
    "\tAge  int\n",
    "}"
   ]
  },
  {
   "cell_type": "code",
   "execution_count": 3,
   "id": "322aca24-f86a-43b1-b2bd-8e94ac0ec6b7",
   "metadata": {},
   "outputs": [],
   "source": [
    "func (p Person) String() string {\n",
    "\treturn fmt.Sprintf(\"%v (%v years)\", p.Name, p.Age)\n",
    "}"
   ]
  },
  {
   "cell_type": "code",
   "execution_count": 4,
   "id": "bcf4abb2-205a-4a74-8dad-493175e92fd1",
   "metadata": {},
   "outputs": [],
   "source": [
    "a := Person{\"Arthur Dent\", 42}"
   ]
  },
  {
   "cell_type": "code",
   "execution_count": 9,
   "id": "5ce5325b-f4bb-4d95-8c69-835adbfd1bf9",
   "metadata": {},
   "outputs": [
    {
     "name": "stdout",
     "output_type": "stream",
     "text": [
      "Arthur Dent (42 years)"
     ]
    },
    {
     "data": {
      "text/plain": [
       "22 <nil>"
      ]
     },
     "execution_count": 9,
     "metadata": {},
     "output_type": "execute_result"
    }
   ],
   "source": [
    "fmt.Print(a.String())"
   ]
  },
  {
   "cell_type": "markdown",
   "id": "8f77c849-2b59-42ea-a3b2-4d09efedc001",
   "metadata": {},
   "source": [
    "### Wraper functions"
   ]
  },
  {
   "cell_type": "code",
   "execution_count": 10,
   "id": "c7d333e3-cf1c-4659-82c3-8db3edfc7e06",
   "metadata": {},
   "outputs": [],
   "source": [
    "func logInfo(s fmt.Stringer) {\n",
    "    fmt.Println(\"LOG FROM 138\", s.String())\n",
    "}"
   ]
  },
  {
   "cell_type": "code",
   "execution_count": 11,
   "id": "d132e192-8668-48c4-aa7b-96864aa4173a",
   "metadata": {},
   "outputs": [
    {
     "name": "stdout",
     "output_type": "stream",
     "text": [
      "LOG FROM 138 Arthur Dent (42 years)\n"
     ]
    }
   ],
   "source": [
    "logInfo(a)"
   ]
  },
  {
   "cell_type": "code",
   "execution_count": null,
   "id": "e6cf8ffc-f85b-490d-be6c-2afe31764b1f",
   "metadata": {},
   "outputs": [],
   "source": []
  }
 ],
 "metadata": {
  "kernelspec": {
   "display_name": "Go",
   "language": "go",
   "name": "gophernotes"
  },
  "language_info": {
   "codemirror_mode": "",
   "file_extension": ".go",
   "mimetype": "",
   "name": "go",
   "nbconvert_exporter": "",
   "pygments_lexer": "",
   "version": "go1.21.0"
  }
 },
 "nbformat": 4,
 "nbformat_minor": 5
}
