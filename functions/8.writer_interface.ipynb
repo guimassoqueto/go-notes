{
 "cells": [
  {
   "cell_type": "code",
   "execution_count": 18,
   "id": "14f67444-4563-4eac-b8b1-d62da81af9bb",
   "metadata": {},
   "outputs": [],
   "source": [
    "import (\n",
    "    \"os\"\n",
    "    \"io\"\n",
    "    \"log\"\n",
    ")"
   ]
  },
  {
   "cell_type": "code",
   "execution_count": 19,
   "id": "d05ad5dd-e854-4eab-b684-81c58f20d6c1",
   "metadata": {},
   "outputs": [],
   "source": [
    "type person struct {\n",
    "    First string `json:\"first\"`\n",
    "}"
   ]
  },
  {
   "cell_type": "code",
   "execution_count": 20,
   "id": "7f674566-c21c-4e5f-85c0-23291f6f1cec",
   "metadata": {},
   "outputs": [],
   "source": [
    "func (p person) Writer(w io.Writer) error {\n",
    "    _, err := w.Write([]byte(p.First))\n",
    "    return err\n",
    "}"
   ]
  },
  {
   "cell_type": "code",
   "execution_count": 22,
   "id": "3aa41e69-58c2-484b-9890-af47704e127e",
   "metadata": {},
   "outputs": [],
   "source": [
    "f, err := os.Create(\"output.txt\")\n",
    "if err != nil {\n",
    "    log.Fatalf(\"error %s\", err)\n",
    "}\n",
    "s := []byte(\"Hello gophers!\")\n",
    "\n",
    "_, err := f.Write(s)\n",
    "if err != nil {\n",
    "    log.Fatalf(\"error %s\", err)\n",
    "}\n",
    "log.Println(a)\n",
    "\n",
    "f.Close()"
   ]
  },
  {
   "cell_type": "code",
   "execution_count": null,
   "id": "22601f46-1de7-45e8-b5cb-ad53ebbf6732",
   "metadata": {},
   "outputs": [],
   "source": []
  }
 ],
 "metadata": {
  "kernelspec": {
   "display_name": "Go",
   "language": "go",
   "name": "gophernotes"
  },
  "language_info": {
   "codemirror_mode": "",
   "file_extension": ".go",
   "mimetype": "",
   "name": "go",
   "nbconvert_exporter": "",
   "pygments_lexer": "",
   "version": "go1.21.0"
  }
 },
 "nbformat": 4,
 "nbformat_minor": 5
}
