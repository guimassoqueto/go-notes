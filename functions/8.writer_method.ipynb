{
 "cells": [
  {
   "cell_type": "code",
   "execution_count": 49,
   "id": "26228b89-2069-464c-bead-7b785e36f340",
   "metadata": {},
   "outputs": [],
   "source": [
    "import (\n",
    "    \"fmt\"\n",
    "    \"io\"\n",
    "    \"os\"\n",
    "    \"log\"\n",
    "    \"bytes\"\n",
    ")"
   ]
  },
  {
   "cell_type": "code",
   "execution_count": 50,
   "id": "6f2c3f30-ee29-4074-9a6d-1a1bc9fbcaa3",
   "metadata": {},
   "outputs": [],
   "source": [
    "type person struct {\n",
    "    Name string `json:\"name\"`\n",
    "}"
   ]
  },
  {
   "cell_type": "code",
   "execution_count": 58,
   "id": "830bf636-1011-4072-a316-5b3f60da75c2",
   "metadata": {},
   "outputs": [],
   "source": [
    "func (p person) WriteOut(w io.Writer) {\n",
    "    w.Write([]byte(\"Person: \" + p.Name))\n",
    "}\n",
    "\n",
    "func (p person) String() string {\n",
    "    return fmt.Sprintf(\"Person: %s\", p.Name)\n",
    "}"
   ]
  },
  {
   "cell_type": "code",
   "execution_count": 59,
   "id": "524389d8-6f93-408e-a738-376af1cd4eee",
   "metadata": {},
   "outputs": [
    {
     "name": "stdout",
     "output_type": "stream",
     "text": [
      "Person: Maria\n"
     ]
    }
   ],
   "source": [
    "f, err := os.Create(\"output.txt\")\n",
    "if err != nil {\n",
    "    log.Fatalf(\"Error: %s\", err)\n",
    "}\n",
    "\n",
    "p := person{\n",
    "    Name: \"Maria\",\n",
    "}\n",
    "\n",
    "var b bytes.Buffer\n",
    "\n",
    "p.WriteOut(f)\n",
    "p.WriteOut(&b)\n",
    "\n",
    "fmt.Println(p.String())\n",
    "\n",
    "f.Close()"
   ]
  },
  {
   "cell_type": "code",
   "execution_count": null,
   "id": "40998423-aa4b-474c-976d-722983a23f74",
   "metadata": {},
   "outputs": [],
   "source": []
  }
 ],
 "metadata": {
  "kernelspec": {
   "display_name": "Go",
   "language": "go",
   "name": "gophernotes"
  },
  "language_info": {
   "codemirror_mode": "",
   "file_extension": ".go",
   "mimetype": "",
   "name": "go",
   "nbconvert_exporter": "",
   "pygments_lexer": "",
   "version": "go1.21.0"
  }
 },
 "nbformat": 4,
 "nbformat_minor": 5
}
