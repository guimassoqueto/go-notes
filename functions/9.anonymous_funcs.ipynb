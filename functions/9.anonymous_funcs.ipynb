{
 "cells": [
  {
   "cell_type": "code",
   "execution_count": 8,
   "id": "224f0ff8-5e80-4e62-a2ab-94e3ef38bf68",
   "metadata": {},
   "outputs": [],
   "source": [
    "import (\n",
    "    \"fmt\"\n",
    ")"
   ]
  },
  {
   "cell_type": "code",
   "execution_count": 12,
   "id": "3c190dfd-232d-4e33-912b-d951ffa885e7",
   "metadata": {},
   "outputs": [
    {
     "name": "stdout",
     "output_type": "stream",
     "text": [
      "Welcome! to GeeksforGeeks\n"
     ]
    }
   ],
   "source": [
    "x1 := func(){\n",
    "  fmt.Println(\"Welcome! to GeeksforGeeks\")\n",
    "}\n",
    "\n",
    "x1()"
   ]
  },
  {
   "cell_type": "code",
   "execution_count": 14,
   "id": "3b15587c-42d3-461e-82c7-4e178d22cc1c",
   "metadata": {},
   "outputs": [
    {
     "name": "stdout",
     "output_type": "stream",
     "text": [
      "Nossa\n"
     ]
    }
   ],
   "source": [
    "x2 := func (s string) {\n",
    "    fmt.Println(s)\n",
    "}\n",
    "x2(\"Nossa\")"
   ]
  },
  {
   "cell_type": "code",
   "execution_count": null,
   "id": "e192bd1d-c011-4d5f-a76d-3b90b7c3e965",
   "metadata": {},
   "outputs": [],
   "source": []
  }
 ],
 "metadata": {
  "kernelspec": {
   "display_name": "Go",
   "language": "go",
   "name": "gophernotes"
  },
  "language_info": {
   "codemirror_mode": "",
   "file_extension": ".go",
   "mimetype": "",
   "name": "go",
   "nbconvert_exporter": "",
   "pygments_lexer": "",
   "version": "go1.21.0"
  }
 },
 "nbformat": 4,
 "nbformat_minor": 5
}
