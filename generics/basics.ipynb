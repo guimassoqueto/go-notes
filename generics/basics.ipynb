{
 "cells": [
  {
   "cell_type": "code",
   "execution_count": 4,
   "id": "ec7ed759-be97-4b07-90aa-c599778e3283",
   "metadata": {},
   "outputs": [
    {
     "ename": "ERROR",
     "evalue": "repl.go:1:9: expected '(', found '['",
     "output_type": "error",
     "traceback": [
      "repl.go:1:9: expected '(', found '['"
     ]
    }
   ],
   "source": [
    "func Add[T int | float64](args ...T) T {\n",
    "\tvar total T\n",
    "\tfor _, value := range args {\n",
    "\t\ttotal += value\n",
    "\t}\n",
    "\treturn total\n",
    "}"
   ]
  },
  {
   "cell_type": "code",
   "execution_count": 5,
   "id": "337d9426-727b-4bcb-a58f-8b5afc1925d2",
   "metadata": {},
   "outputs": [
    {
     "ename": "ERROR",
     "evalue": "repl.go:1:1: undefined identifier: Add",
     "output_type": "error",
     "traceback": [
      "repl.go:1:1: undefined identifier: Add"
     ]
    }
   ],
   "source": [
    "Add(20, 10)"
   ]
  },
  {
   "cell_type": "code",
   "execution_count": 6,
   "id": "d20f43fd-d705-47a6-912f-e7f60ed2e3e1",
   "metadata": {},
   "outputs": [
    {
     "ename": "ERROR",
     "evalue": "repl.go:1:1: undefined identifier: Add",
     "output_type": "error",
     "traceback": [
      "repl.go:1:1: undefined identifier: Add"
     ]
    }
   ],
   "source": [
    "Add(20.1, 20.2)"
   ]
  },
  {
   "cell_type": "code",
   "execution_count": null,
   "id": "17c37116-8dd1-49e4-8e27-1ffd8d3c3822",
   "metadata": {},
   "outputs": [],
   "source": []
  }
 ],
 "metadata": {
  "kernelspec": {
   "display_name": "Go",
   "language": "go",
   "name": "gophernotes"
  },
  "language_info": {
   "codemirror_mode": "",
   "file_extension": ".go",
   "mimetype": "",
   "name": "go",
   "nbconvert_exporter": "",
   "pygments_lexer": "",
   "version": "go1.21.0"
  }
 },
 "nbformat": 4,
 "nbformat_minor": 5
}
