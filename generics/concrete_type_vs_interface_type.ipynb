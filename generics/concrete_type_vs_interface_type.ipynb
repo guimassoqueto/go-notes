{
 "cells": [
  {
   "cell_type": "markdown",
   "id": "62d079ca-07f8-4b21-a420-c86afd1fb43e",
   "metadata": {},
   "source": [
    "**Tipos Concretos** são tipos primitivos, tipos nos quais pode-se instanciar e usar em uma variavel\n",
    "Os tipos concretos em golang podem ser: int, int64, float64, slice, map, structs, etc"
   ]
  },
  {
   "cell_type": "markdown",
   "id": "64e3780d-4c8b-4299-a745-7fa39614c151",
   "metadata": {},
   "source": [
    "**Tipos Interface** são tipos que definem um contrato (conjunto de métodos ou tipos), mas nao representam um tipo especifico de dados ou conjunto de dados."
   ]
  },
  {
   "cell_type": "code",
   "execution_count": null,
   "id": "ac31e1f2-48c1-4724-9784-7ea26f3eda44",
   "metadata": {},
   "outputs": [],
   "source": []
  }
 ],
 "metadata": {
  "kernelspec": {
   "display_name": "Go",
   "language": "go",
   "name": "gophernotes"
  },
  "language_info": {
   "codemirror_mode": "",
   "file_extension": ".go",
   "mimetype": "",
   "name": "go",
   "nbconvert_exporter": "",
   "pygments_lexer": "",
   "version": "go1.21.0"
  }
 },
 "nbformat": 4,
 "nbformat_minor": 5
}
