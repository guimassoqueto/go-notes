{
 "cells": [
  {
   "cell_type": "markdown",
   "id": "55c24cba-c56f-4ef4-aee0-43fdc2458c16",
   "metadata": {},
   "source": [
    "Learn more about constraints: https://pkg.go.dev/golang.org/x/exp/constraints"
   ]
  },
  {
   "cell_type": "code",
   "execution_count": 4,
   "id": "48a78337-e66f-493d-91d8-e83d393a3fa1",
   "metadata": {},
   "outputs": [],
   "source": [
    "import \"golang.org/x/exp/constraints\""
   ]
  },
  {
   "cell_type": "code",
   "execution_count": 6,
   "id": "a0f41fe9-7262-4591-811b-05a8edc7cf7d",
   "metadata": {},
   "outputs": [
    {
     "ename": "ERROR",
     "evalue": "repl.go:2:22: expected ';', found '|' (and 1 more errors)",
     "output_type": "error",
     "traceback": [
      "repl.go:2:22: expected ';', found '|' (and 1 more errors)"
     ]
    }
   ],
   "source": [
    "type number interface {\n",
    "\tconstraints.Integer | constraints.Float\n",
    "}"
   ]
  },
  {
   "cell_type": "code",
   "execution_count": 7,
   "id": "a24d9ede-893a-497a-8329-5319a92b22dd",
   "metadata": {},
   "outputs": [
    {
     "ename": "ERROR",
     "evalue": "repl.go:1:9: expected '(', found '[' (and 6 more errors)",
     "output_type": "error",
     "traceback": [
      "repl.go:1:9: expected '(', found '[' (and 6 more errors)"
     ]
    }
   ],
   "source": [
    "func add[T number](args ...T) T {\n",
    "\tvar total T\n",
    "\tfor _, value := range args {\n",
    "\t\ttotal += value\n",
    "\t}\n",
    "\treturn total\n",
    "}"
   ]
  },
  {
   "cell_type": "code",
   "execution_count": null,
   "id": "29511b3d-4689-4b3e-a52e-ca2eaf58f859",
   "metadata": {},
   "outputs": [],
   "source": []
  }
 ],
 "metadata": {
  "kernelspec": {
   "display_name": "Go",
   "language": "go",
   "name": "gophernotes"
  },
  "language_info": {
   "codemirror_mode": "",
   "file_extension": ".go",
   "mimetype": "",
   "name": "go",
   "nbconvert_exporter": "",
   "pygments_lexer": "",
   "version": "go1.21.0"
  }
 },
 "nbformat": 4,
 "nbformat_minor": 5
}
