{
 "cells": [
  {
   "cell_type": "code",
   "execution_count": 4,
   "id": "e89c749e-d205-426c-8799-22b6404616bc",
   "metadata": {},
   "outputs": [
    {
     "ename": "ERROR",
     "evalue": "go/parser internal error: identifier already declared or resolved",
     "output_type": "error",
     "traceback": [
      "go/parser internal error: identifier already declared or resolved"
     ]
    }
   ],
   "source": [
    "type number interface {\n",
    "    int | float64\n",
    "}"
   ]
  },
  {
   "cell_type": "code",
   "execution_count": null,
   "id": "e0adcdfb-95f6-478d-95d9-5ff55e9036ce",
   "metadata": {},
   "outputs": [],
   "source": [
    "func add[T number](args... T) T{\n",
    "    for _, v := range args {\n",
    "        total += v\n",
    "    }\n",
    "    return total\n",
    "}"
   ]
  }
 ],
 "metadata": {
  "kernelspec": {
   "display_name": "Go",
   "language": "go",
   "name": "gophernotes"
  },
  "language_info": {
   "codemirror_mode": "",
   "file_extension": ".go",
   "mimetype": "",
   "name": "go",
   "nbconvert_exporter": "",
   "pygments_lexer": "",
   "version": "go1.21.0"
  }
 },
 "nbformat": 4,
 "nbformat_minor": 5
}
