{
 "cells": [
  {
   "cell_type": "markdown",
   "id": "eced9259-a233-49d4-ac23-2e69086a57cb",
   "metadata": {},
   "source": [
    "### Passing by Value"
   ]
  },
  {
   "cell_type": "code",
   "execution_count": 6,
   "id": "5fb5e0ab-abe1-4502-bcc5-8db6fde8cc66",
   "metadata": {},
   "outputs": [],
   "source": [
    "func passingByValue(x int){\n",
    "    x = 42\n",
    "}"
   ]
  },
  {
   "cell_type": "code",
   "execution_count": 7,
   "id": "09b38c1e-02e5-4bb6-a3c4-603472f3167b",
   "metadata": {},
   "outputs": [],
   "source": [
    "x := 17"
   ]
  },
  {
   "cell_type": "code",
   "execution_count": 8,
   "id": "fa985f9e-abed-4577-8afa-581fe890549a",
   "metadata": {},
   "outputs": [],
   "source": [
    "passingByValue(x)"
   ]
  },
  {
   "cell_type": "code",
   "execution_count": 9,
   "id": "199cf13b-9bcf-4393-9dc8-5a9cddb4a04b",
   "metadata": {},
   "outputs": [
    {
     "data": {
      "text/plain": [
       "17"
      ]
     },
     "execution_count": 9,
     "metadata": {},
     "output_type": "execute_result"
    }
   ],
   "source": [
    "x"
   ]
  },
  {
   "cell_type": "markdown",
   "id": "c065eb28-2ca6-4c85-888b-e2d0f2e58df4",
   "metadata": {},
   "source": [
    "### Passing by Ref"
   ]
  },
  {
   "cell_type": "code",
   "execution_count": 10,
   "id": "b4f3944d-4f3a-46f7-816c-5a0be95cd040",
   "metadata": {},
   "outputs": [],
   "source": [
    "func passingByRef(x *int) {\n",
    "    *x = 42\n",
    "}"
   ]
  },
  {
   "cell_type": "code",
   "execution_count": 11,
   "id": "61b9613d-e89d-400d-9e29-6c4febeb2cbc",
   "metadata": {},
   "outputs": [],
   "source": [
    "y := 17"
   ]
  },
  {
   "cell_type": "code",
   "execution_count": 12,
   "id": "1fc89984-ce13-4c10-be43-109121cda2a3",
   "metadata": {},
   "outputs": [],
   "source": [
    "passingByRef(&y)"
   ]
  },
  {
   "cell_type": "code",
   "execution_count": 13,
   "id": "297e21bd-399d-40cb-9806-aefad547b416",
   "metadata": {},
   "outputs": [
    {
     "data": {
      "text/plain": [
       "42"
      ]
     },
     "execution_count": 13,
     "metadata": {},
     "output_type": "execute_result"
    }
   ],
   "source": [
    "y"
   ]
  },
  {
   "cell_type": "code",
   "execution_count": null,
   "id": "cc7b5b2d-c04f-48a3-b127-55e1955f1a2e",
   "metadata": {},
   "outputs": [],
   "source": []
  }
 ],
 "metadata": {
  "kernelspec": {
   "display_name": "Go",
   "language": "go",
   "name": "gophernotes"
  },
  "language_info": {
   "codemirror_mode": "",
   "file_extension": ".go",
   "mimetype": "",
   "name": "go",
   "nbconvert_exporter": "",
   "pygments_lexer": "",
   "version": "go1.21.0"
  }
 },
 "nbformat": 4,
 "nbformat_minor": 5
}
