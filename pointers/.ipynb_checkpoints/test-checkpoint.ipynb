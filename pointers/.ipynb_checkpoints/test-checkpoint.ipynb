{
 "cells": [
  {
   "cell_type": "code",
   "execution_count": 1,
   "id": "882c0a1d-da19-4bac-be42-59b010ff3169",
   "metadata": {},
   "outputs": [],
   "source": [
    "x := 42"
   ]
  },
  {
   "cell_type": "code",
   "execution_count": 3,
   "id": "808a4d1b-9546-4cf4-b7b7-b04fb285da21",
   "metadata": {},
   "outputs": [
    {
     "data": {
      "text/plain": [
       "0xc000022000"
      ]
     },
     "execution_count": 3,
     "metadata": {},
     "output_type": "execute_result"
    }
   ],
   "source": [
    "&x"
   ]
  },
  {
   "cell_type": "code",
   "execution_count": 4,
   "id": "7a7bf23f-653e-476f-938b-00f96c866108",
   "metadata": {},
   "outputs": [
    {
     "data": {
      "text/plain": [
       "42"
      ]
     },
     "execution_count": 4,
     "metadata": {},
     "output_type": "execute_result"
    }
   ],
   "source": [
    "*&x"
   ]
  },
  {
   "cell_type": "code",
   "execution_count": 5,
   "id": "7e15c413-48a7-4a7d-b8ca-4dfbd55007d0",
   "metadata": {},
   "outputs": [],
   "source": [
    "y := &x"
   ]
  },
  {
   "cell_type": "code",
   "execution_count": 6,
   "id": "5668ae24-1544-4d57-9922-0f805edd1d51",
   "metadata": {},
   "outputs": [
    {
     "data": {
      "text/plain": [
       "0xc000022000"
      ]
     },
     "execution_count": 6,
     "metadata": {},
     "output_type": "execute_result"
    }
   ],
   "source": [
    "y"
   ]
  },
  {
   "cell_type": "code",
   "execution_count": 7,
   "id": "c7b7343c-74a3-438a-82a9-519506378b12",
   "metadata": {},
   "outputs": [],
   "source": [
    "*y = 17"
   ]
  },
  {
   "cell_type": "code",
   "execution_count": 8,
   "id": "af044892-3026-4c68-b5d6-6c844e1b4933",
   "metadata": {},
   "outputs": [
    {
     "data": {
      "text/plain": [
       "true"
      ]
     },
     "execution_count": 8,
     "metadata": {},
     "output_type": "execute_result"
    }
   ],
   "source": [
    "*y == x"
   ]
  }
 ],
 "metadata": {
  "kernelspec": {
   "display_name": "Go",
   "language": "go",
   "name": "gophernotes"
  },
  "language_info": {
   "codemirror_mode": "",
   "file_extension": ".go",
   "mimetype": "",
   "name": "go",
   "nbconvert_exporter": "",
   "pygments_lexer": "",
   "version": "go1.21.0"
  }
 },
 "nbformat": 4,
 "nbformat_minor": 5
}
