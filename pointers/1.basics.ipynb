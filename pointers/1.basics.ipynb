{
 "cells": [
  {
   "cell_type": "code",
   "execution_count": 15,
   "id": "6a5e8a61-cf3a-4a62-b4f5-7f786c9fdffc",
   "metadata": {},
   "outputs": [],
   "source": [
    "import \"fmt\""
   ]
  },
  {
   "cell_type": "markdown",
   "id": "a9e28090-9a61-48f3-9719-44eea26df1fa",
   "metadata": {},
   "source": [
    "### Pointers"
   ]
  },
  {
   "cell_type": "markdown",
   "id": "bae051b8-95aa-4b66-ba1a-8137db6fe11e",
   "metadata": {},
   "source": [
    "1. Declaring a variable and assigning a value to it"
   ]
  },
  {
   "cell_type": "code",
   "execution_count": 16,
   "id": "03aaab65-82c8-44f6-843b-edd8c947e368",
   "metadata": {},
   "outputs": [],
   "source": [
    "x := 42"
   ]
  },
  {
   "cell_type": "markdown",
   "id": "d9fe1bd4-4e58-41ae-8153-4dadd91407f5",
   "metadata": {},
   "source": [
    "2. Getting where in memory the variale are located"
   ]
  },
  {
   "cell_type": "code",
   "execution_count": 17,
   "id": "58f53a86-e97d-402e-b425-68fdf6492c85",
   "metadata": {},
   "outputs": [
    {
     "data": {
      "text/plain": [
       "0xc000276000"
      ]
     },
     "execution_count": 17,
     "metadata": {},
     "output_type": "execute_result"
    }
   ],
   "source": [
    "&x"
   ]
  },
  {
   "cell_type": "markdown",
   "id": "fe5d8005-556c-4163-a7f6-c4a30f954bb9",
   "metadata": {},
   "source": [
    "3. Getting the type of both values (x , &x):"
   ]
  },
  {
   "cell_type": "code",
   "execution_count": 22,
   "id": "fd13fc5a-7c28-4b0b-bbaa-020864aa87d5",
   "metadata": {},
   "outputs": [
    {
     "name": "stdout",
     "output_type": "stream",
     "text": [
      "Type: *int\n",
      "Value: 0xc000276000"
     ]
    },
    {
     "data": {
      "text/plain": [
       "30 <nil>"
      ]
     },
     "execution_count": 22,
     "metadata": {},
     "output_type": "execute_result"
    }
   ],
   "source": [
    "fmt.Printf(\"Type: %T\\nValue: %v\", &x, &x)"
   ]
  },
  {
   "cell_type": "markdown",
   "id": "7cd6bc14-f088-48a2-991e-cea40d0b84ee",
   "metadata": {},
   "source": [
    "### With a more complex structure"
   ]
  },
  {
   "cell_type": "code",
   "execution_count": 23,
   "id": "b494b522-aee8-414e-8618-d7dc3f485ca5",
   "metadata": {},
   "outputs": [],
   "source": [
    "type person struct {\n",
    "    Name string\n",
    "    ID string\n",
    "}"
   ]
  },
  {
   "cell_type": "code",
   "execution_count": 24,
   "id": "53f6f0aa-4d7f-4761-aacc-7bc1279847a1",
   "metadata": {},
   "outputs": [],
   "source": [
    "p := person{\n",
    "    Name: \"Jordi\",\n",
    "    ID: \"fd4-2ef\",\n",
    "}"
   ]
  },
  {
   "cell_type": "code",
   "execution_count": 25,
   "id": "5a77f641-0e28-41bb-aee2-08a74a5f01cf",
   "metadata": {},
   "outputs": [
    {
     "name": "stdout",
     "output_type": "stream",
     "text": [
      "Type: *struct { Name string; ID string }\n",
      "Value: &{Jordi fd4-2ef}"
     ]
    },
    {
     "data": {
      "text/plain": [
       "64 <nil>"
      ]
     },
     "execution_count": 25,
     "metadata": {},
     "output_type": "execute_result"
    }
   ],
   "source": [
    "fmt.Printf(\"Type: %T\\nValue: %v\", &p, &p)"
   ]
  },
  {
   "cell_type": "code",
   "execution_count": null,
   "id": "ec971eee-c224-47e7-841f-a207ca48803e",
   "metadata": {},
   "outputs": [],
   "source": []
  }
 ],
 "metadata": {
  "kernelspec": {
   "display_name": "Go",
   "language": "go",
   "name": "gophernotes"
  },
  "language_info": {
   "codemirror_mode": "",
   "file_extension": ".go",
   "mimetype": "",
   "name": "go",
   "nbconvert_exporter": "",
   "pygments_lexer": "",
   "version": "go1.21.0"
  }
 },
 "nbformat": 4,
 "nbformat_minor": 5
}
