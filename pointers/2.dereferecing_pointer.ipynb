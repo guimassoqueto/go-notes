{
 "cells": [
  {
   "cell_type": "code",
   "execution_count": 8,
   "id": "7c589432-9dbd-45e6-a1e0-2943bc1b0876",
   "metadata": {},
   "outputs": [],
   "source": [
    "import \"fmt\""
   ]
  },
  {
   "cell_type": "code",
   "execution_count": 9,
   "id": "df2510e6-8dcf-42a3-a108-74fb8135cf7f",
   "metadata": {},
   "outputs": [],
   "source": [
    "x := 42"
   ]
  },
  {
   "cell_type": "code",
   "execution_count": 10,
   "id": "472457d8-035d-4a45-8af1-15f7ac748fac",
   "metadata": {},
   "outputs": [
    {
     "name": "stdout",
     "output_type": "stream",
     "text": [
      "0xc000526000 *int"
     ]
    },
    {
     "data": {
      "text/plain": [
       "17 <nil>"
      ]
     },
     "execution_count": 10,
     "metadata": {},
     "output_type": "execute_result"
    }
   ],
   "source": [
    "fmt.Printf(\"%v %T\", &x, &x)"
   ]
  },
  {
   "cell_type": "code",
   "execution_count": 11,
   "id": "5b12cee8-eb9f-4e11-ba22-733fec6e9e1c",
   "metadata": {},
   "outputs": [],
   "source": [
    "y := &x"
   ]
  },
  {
   "cell_type": "code",
   "execution_count": 13,
   "id": "b85c6984-2814-4833-8aee-34509f551e81",
   "metadata": {},
   "outputs": [
    {
     "name": "stdout",
     "output_type": "stream",
     "text": [
      "0xc000526000 *int"
     ]
    },
    {
     "data": {
      "text/plain": [
       "17 <nil>"
      ]
     },
     "execution_count": 13,
     "metadata": {},
     "output_type": "execute_result"
    }
   ],
   "source": [
    "fmt.Printf(\"%v %T\", y, y)"
   ]
  },
  {
   "cell_type": "code",
   "execution_count": 14,
   "id": "a4f24d15-21f7-4b88-8fb2-eef1bc7ac13b",
   "metadata": {},
   "outputs": [
    {
     "name": "stdout",
     "output_type": "stream",
     "text": [
      "42"
     ]
    },
    {
     "data": {
      "text/plain": [
       "2 <nil>"
      ]
     },
     "execution_count": 14,
     "metadata": {},
     "output_type": "execute_result"
    }
   ],
   "source": [
    "fmt.Printf(\"%v\", *y)"
   ]
  },
  {
   "cell_type": "code",
   "execution_count": 15,
   "id": "ae6fd840-b753-474b-8a51-e40207e9a900",
   "metadata": {},
   "outputs": [],
   "source": [
    "*y = 17"
   ]
  },
  {
   "cell_type": "code",
   "execution_count": 16,
   "id": "830f86ad-b529-466a-999b-334b8b13874f",
   "metadata": {},
   "outputs": [
    {
     "data": {
      "text/plain": [
       "17"
      ]
     },
     "execution_count": 16,
     "metadata": {},
     "output_type": "execute_result"
    }
   ],
   "source": [
    "x"
   ]
  },
  {
   "cell_type": "code",
   "execution_count": 18,
   "id": "c2a67734-8a33-48ac-a206-246e61ff4f90",
   "metadata": {},
   "outputs": [
    {
     "data": {
      "text/plain": [
       "17"
      ]
     },
     "execution_count": 18,
     "metadata": {},
     "output_type": "execute_result"
    }
   ],
   "source": [
    "*y"
   ]
  },
  {
   "cell_type": "code",
   "execution_count": null,
   "id": "74ab2225-1b0b-4199-9a84-804a6e4cf623",
   "metadata": {},
   "outputs": [],
   "source": []
  }
 ],
 "metadata": {
  "kernelspec": {
   "display_name": "Go",
   "language": "go",
   "name": "gophernotes"
  },
  "language_info": {
   "codemirror_mode": "",
   "file_extension": ".go",
   "mimetype": "",
   "name": "go",
   "nbconvert_exporter": "",
   "pygments_lexer": "",
   "version": "go1.21.0"
  }
 },
 "nbformat": 4,
 "nbformat_minor": 5
}
