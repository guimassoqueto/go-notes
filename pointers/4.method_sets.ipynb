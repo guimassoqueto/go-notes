{
 "cells": [
  {
   "cell_type": "code",
   "execution_count": 10,
   "id": "293e831e-0f63-45a1-8d56-8634faed1232",
   "metadata": {},
   "outputs": [],
   "source": [
    "import \"fmt\""
   ]
  },
  {
   "cell_type": "markdown",
   "id": "cb611902-0a6d-4dba-b6f2-c1f3e96c13f7",
   "metadata": {},
   "source": [
    "#### O que é\n",
    "Funções/Métodos podem receber ponteiros ou valores. \n",
    "Observe que *dog1* é uma variavel do tipo dog, *dog2* é um endereço de um tipo dog."
   ]
  },
  {
   "cell_type": "code",
   "execution_count": 30,
   "id": "188e247b-85f5-420f-9a91-1db52568c218",
   "metadata": {},
   "outputs": [],
   "source": [
    "type dog struct{\n",
    "    Name string\n",
    "}"
   ]
  },
  {
   "cell_type": "code",
   "execution_count": 31,
   "id": "60f99198-d06d-4f9c-b731-1728fb2c9fca",
   "metadata": {},
   "outputs": [],
   "source": [
    "func (d dog) Talk() {\n",
    "    fmt.Println(\"I am \", d.Name, \" and I am a talking dog\")\n",
    "}"
   ]
  },
  {
   "cell_type": "code",
   "execution_count": 32,
   "id": "9d03d15a-0d8b-4a15-b72a-d6299b56405a",
   "metadata": {},
   "outputs": [],
   "source": [
    "func (d *dog) Run() {\n",
    "    fmt.Println(\"I am \", d.Name, \" and I am running\")\n",
    "}"
   ]
  },
  {
   "cell_type": "code",
   "execution_count": 33,
   "id": "ff076cf7-5ab4-4e2a-9683-cdd8476decc2",
   "metadata": {},
   "outputs": [],
   "source": [
    "dog1 := dog{\n",
    "    Name: \"Geniwaldo\",\n",
    "}"
   ]
  },
  {
   "cell_type": "code",
   "execution_count": 34,
   "id": "ceaaf9da-f8b5-4a68-bfcc-df26545fc22c",
   "metadata": {},
   "outputs": [
    {
     "name": "stdout",
     "output_type": "stream",
     "text": [
      "I am  Geniwaldo  and I am a talking dog\n"
     ]
    }
   ],
   "source": [
    "dog1.Talk()"
   ]
  },
  {
   "cell_type": "code",
   "execution_count": 35,
   "id": "f70c2265-de12-4bbc-8320-fb7adf1de335",
   "metadata": {},
   "outputs": [
    {
     "name": "stdout",
     "output_type": "stream",
     "text": [
      "I am  Geniwaldo  and I am running\n"
     ]
    }
   ],
   "source": [
    "dog1.Run()"
   ]
  },
  {
   "cell_type": "code",
   "execution_count": 36,
   "id": "41a5617c-2796-442b-bd8d-ea7c86cbd3a4",
   "metadata": {},
   "outputs": [],
   "source": [
    "dog2 := &dog{\n",
    "    Name: \"Waldislainy\",\n",
    "}"
   ]
  },
  {
   "cell_type": "code",
   "execution_count": 37,
   "id": "a741479e-f380-42aa-bb3a-dfe12abe3dc7",
   "metadata": {},
   "outputs": [
    {
     "name": "stdout",
     "output_type": "stream",
     "text": [
      "I am  Waldislainy  and I am a talking dog\n"
     ]
    }
   ],
   "source": [
    "dog2.Talk()"
   ]
  },
  {
   "cell_type": "code",
   "execution_count": 22,
   "id": "62de7103-dcde-4239-8b74-73d7581a70d3",
   "metadata": {},
   "outputs": [
    {
     "name": "stdout",
     "output_type": "stream",
     "text": [
      "I am  Waldislainy  and I am running\n"
     ]
    }
   ],
   "source": [
    "dog2.Run()"
   ]
  },
  {
   "cell_type": "markdown",
   "id": "738eff61-4217-4fd5-8c1a-1204456f6de7",
   "metadata": {},
   "source": [
    "## Implementação de interfaces"
   ]
  },
  {
   "cell_type": "code",
   "execution_count": 38,
   "id": "efd4798c-a95c-46b7-ac3e-c7f5456bd369",
   "metadata": {},
   "outputs": [],
   "source": [
    "type puppy interface {\n",
    "    Talk()\n",
    "    Run()\n",
    "}"
   ]
  },
  {
   "cell_type": "code",
   "execution_count": 44,
   "id": "7ecf1030-6fd7-4955-b652-55eb3d463e93",
   "metadata": {},
   "outputs": [],
   "source": [
    "func TalkAndRun(p puppy) {\n",
    "    p.Talk()\n",
    "    p.Run()\n",
    "}"
   ]
  },
  {
   "cell_type": "markdown",
   "id": "25702594-06df-4590-8e6f-e46480fbb14c",
   "metadata": {},
   "source": [
    "Se aplicarmos a função TalkAndRun para o dog1 (tipo dog), ela vai falhar no método Run, pois o método usa um ponteito como argumento"
   ]
  },
  {
   "cell_type": "code",
   "execution_count": 45,
   "id": "ce16a556-2d16-4978-9e82-0ddb62e7c912",
   "metadata": {},
   "outputs": [
    {
     "ename": "ERROR",
     "evalue": "repl.go:1:12: cannot use <main.dog> as <main.puppy> in argument to TalkAndRun",
     "output_type": "error",
     "traceback": [
      "repl.go:1:12: cannot use <main.dog> as <main.puppy> in argument to TalkAndRun"
     ]
    }
   ],
   "source": [
    "TalkAndRun(dog1)"
   ]
  },
  {
   "cell_type": "markdown",
   "id": "1a4e9cc9-5149-419a-b515-93fa7bbc56cf",
   "metadata": {},
   "source": [
    "No caso do dog2 (tipo endereço para um dog), ambos os métodos funcionam"
   ]
  },
  {
   "cell_type": "code",
   "execution_count": 46,
   "id": "a242f46d-9c53-451b-8e69-3af8f38075aa",
   "metadata": {},
   "outputs": [
    {
     "name": "stdout",
     "output_type": "stream",
     "text": [
      "I am  Waldislainy  and I am a talking dog\n",
      "I am  Waldislainy  and I am running\n"
     ]
    }
   ],
   "source": [
    "TalkAndRun(dog2)"
   ]
  },
  {
   "cell_type": "code",
   "execution_count": null,
   "id": "6c511c18-aba5-4f02-971f-81f01a917d98",
   "metadata": {},
   "outputs": [],
   "source": []
  }
 ],
 "metadata": {
  "kernelspec": {
   "display_name": "Go",
   "language": "go",
   "name": "gophernotes"
  },
  "language_info": {
   "codemirror_mode": "",
   "file_extension": ".go",
   "mimetype": "",
   "name": "go",
   "nbconvert_exporter": "",
   "pygments_lexer": "",
   "version": "go1.21.0"
  }
 },
 "nbformat": 4,
 "nbformat_minor": 5
}
